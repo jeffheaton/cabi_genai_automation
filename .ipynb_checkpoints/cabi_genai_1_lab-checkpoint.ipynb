{
 "cells": [
  {
   "cell_type": "markdown",
   "id": "194074cf-e464-472a-a3dd-8aad9cbd685d",
   "metadata": {},
   "source": [
    "# Introduction to Automation with LangChain, Generative AI, and Python\n",
    "**Lab 1: LLM Assisted Development**\n",
    "* Instructor: [Jeff Heaton](https://youtube.com/@HeatonResearch), WUSTL Center for Analytics and Business Insight (CABI), [Washington University in St. Louis](https://olin.wustl.edu/faculty-and-research/research-centers/center-for-analytics-and-business-insight/index.php)\n",
    "* For more information visit the [class website](https://github.com/jeffheaton/cabi_genai_automation).\n",
    "\n",
    "## Instructions\n",
    "\n",
    "Given an image such as this:\n",
    "\n",
    "[https://data.heatonresearch.com/images/wustl/data/AdobeStock_319245189-low.jpg](https://data.heatonresearch.com/images/wustl/data/AdobeStock_319245189-low.jpg)\n",
    "\n",
    "![Source Image](https://data.heatonresearch.com/images/wustl/data/AdobeStock_319245189-low.jpg)\n",
    "\n",
    "Produce an image like this. Pixel sizes of the thumbnail tiles the same as below. Aspect ratio,\n",
    "same as below:\n",
    "\n",
    "![Arranged Faces](https://s3.amazonaws.com/data.heatonresearch.com/wustl/CABI/genai-langchain/arranged_faces.jpg)\n",
    "\n",
    "[Source](https://s3.amazonaws.com/data.heatonresearch.com/wustl/CABI/genai-langchain/arranged_faces.jpg)\n",
    "\n",
    "Produce a prompt that generates code to accomplish this task. Use [Claude 3 Sonnet](https://us-east-1.console.aws.amazon.com/bedrock/home?region=us-east-1#/providers?model=anthropic.claude-3-sonnet-20240229-v1:0) to produce this.\n",
    "\n",
    "## Small Hint\n",
    "\n",
    "The LLM will often use OpenCV2 in this solution. OpenCV2 uses a non-standard RGB ordering, so its easy to end up with a blue tint, such as this. This is a common OpenCV2 newb mistake that LLM's often fall into.\n",
    "\n",
    "![OpenCV Error](https://s3.amazonaws.com/data.heatonresearch.com/wustl/CABI/genai-langchain/arranged_faces_blue.jpg)"
   ]
  }
 ],
 "metadata": {
  "kernelspec": {
   "display_name": "Python 3 (ipykernel)",
   "language": "python",
   "name": "python3"
  },
  "language_info": {
   "codemirror_mode": {
    "name": "ipython",
    "version": 3
   },
   "file_extension": ".py",
   "mimetype": "text/x-python",
   "name": "python",
   "nbconvert_exporter": "python",
   "pygments_lexer": "ipython3",
   "version": "3.10.10"
  }
 },
 "nbformat": 4,
 "nbformat_minor": 5
}
