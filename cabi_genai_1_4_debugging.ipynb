{
 "cells": [
  {
   "cell_type": "markdown",
   "metadata": {
    "id": "whjsJasuhstV"
   },
   "source": [
    "# Introduction to Automation with LangChain, Generative AI, and Python\n",
    "**1.4: Use LLM to help debug**\n",
    "* Instructor: [Jeff Heaton](https://youtube.com/@HeatonResearch), WUSTL Center for Analytics and Business Insight (CABI), [Washington University in St. Louis](https://olin.wustl.edu/faculty-and-research/research-centers/center-for-analytics-and-business-insight/index.php)\n",
    "* For more information visit the [class website](https://github.com/jeffheaton/cabi_genai_automation)."
   ]
  },
  {
   "cell_type": "markdown",
   "metadata": {
    "id": "pC9A-LaYhsta"
   },
   "source": [
    "LLMs can help you debug both the code you create and the code you generate to fulfill your requests. In this part, you will see how to use an LLM as an assistant to help debug a Python program.\n",
    "\n",
    "## Conversational Code Generation\n",
    "\n",
    "We will continue to use the conversational code generation function provided in Module 1.3.\n",
    "\n"
   ]
  },
  {
   "cell_type": "code",
   "execution_count": 1,
   "metadata": {
    "id": "TMF-rtxgRAea"
   },
   "outputs": [],
   "source": [
    "from langchain.chains import ConversationChain\n",
    "from langchain.memory import ConversationBufferWindowMemory\n",
    "from langchain_aws import ChatBedrock\n",
    "from langchain_core.prompts.chat import PromptTemplate\n",
    "from IPython.display import display_markdown\n",
    "\n",
    "MODEL = 'meta.llama2-70b-chat-v1'\n",
    "TEMPLATE = \"\"\"The following is a friendly conversation between a human and an\n",
    "AI to generate Python code. If you have notes about the code, place them before\n",
    "the code. Any nots about execution should follow the code. If you do mix any\n",
    "notes with the code, make them comments. Add proper comments to the code.\n",
    "Sort imports and follow PEP-8 formatting.\n",
    "\n",
    "Current conversation:\n",
    "{history}\n",
    "Human: {input}\n",
    "Code Assistant:\"\"\"\n",
    "PROMPT_TEMPLATE = PromptTemplate(input_variables=[\"history\", \"input\"], template=TEMPLATE)\n",
    "\n",
    "def start_conversation():\n",
    "    # Initialize bedrock, use built in role\n",
    "    llm = ChatBedrock(\n",
    "        model_id=MODEL,\n",
    "        model_kwargs={\"temperature\": 0.1},\n",
    "    )\n",
    "\n",
    "    # Initialize memory and conversation\n",
    "    memory = ConversationBufferWindowMemory()\n",
    "    conversation = ConversationChain(\n",
    "        prompt=PROMPT_TEMPLATE,\n",
    "        llm=llm,\n",
    "        memory=memory,\n",
    "        verbose=False\n",
    "    )\n",
    "\n",
    "    return conversation\n",
    "\n",
    "def generate_code(conversation, prompt):\n",
    "    print(\"Model response:\")\n",
    "    output = conversation.invoke(prompt)\n",
    "    display_markdown(output['response'], raw=True)\n"
   ]
  },
  {
   "cell_type": "markdown",
   "metadata": {
    "id": "ClPhLkGldhPt"
   },
   "source": [
    "## A Buggy Pi Approximator\n",
    "\n",
    "To see an example of how you can make use of LLM-enabled debugging, consider the following code to use the [Monte Carlo](https://en.wikipedia.org/wiki/Monte_Carlo_method) method to estimate [Pi](https://en.wikipedia.org/wiki/Pi). We need to fix several issues with this code. We can request the LLM to help us debug. This code, when executed, produces the following error:\n",
    "\n",
    "```\n",
    "NameError: name 'xrange' is not defined\n",
    "```"
   ]
  },
  {
   "cell_type": "code",
   "execution_count": 2,
   "metadata": {
    "colab": {
     "base_uri": "https://localhost:8080/",
     "height": 323
    },
    "id": "ydaqwgRiH4D6",
    "outputId": "05467ef0-f0b2-423d-bc06-8a46ce81390c"
   },
   "outputs": [
    {
     "ename": "NameError",
     "evalue": "name 'xrange' is not defined",
     "output_type": "error",
     "traceback": [
      "\u001b[0;31m---------------------------------------------------------------------------\u001b[0m",
      "\u001b[0;31mNameError\u001b[0m                                 Traceback (most recent call last)",
      "Cell \u001b[0;32mIn[2], line 16\u001b[0m\n\u001b[1;32m     14\u001b[0m \u001b[38;5;66;03m# Example usage\u001b[39;00m\n\u001b[1;32m     15\u001b[0m num_samples \u001b[38;5;241m=\u001b[39m \u001b[38;5;241m1000000\u001b[39m  \u001b[38;5;66;03m# Number of random points to generate\u001b[39;00m\n\u001b[0;32m---> 16\u001b[0m approximated_pi \u001b[38;5;241m=\u001b[39m \u001b[43mmonte_carlo_pi\u001b[49m\u001b[43m(\u001b[49m\u001b[43mnum_samples\u001b[49m\u001b[43m)\u001b[49m\n\u001b[1;32m     17\u001b[0m \u001b[38;5;28mprint\u001b[39m(\u001b[38;5;124mf\u001b[39m\u001b[38;5;124m\"\u001b[39m\u001b[38;5;124mApproximated Pi with \u001b[39m\u001b[38;5;132;01m{\u001b[39;00mnum_samples\u001b[38;5;132;01m}\u001b[39;00m\u001b[38;5;124m samples: \u001b[39m\u001b[38;5;132;01m{\u001b[39;00mapproximated_pi\u001b[38;5;132;01m}\u001b[39;00m\u001b[38;5;124m\"\u001b[39m)\n",
      "Cell \u001b[0;32mIn[2], line 6\u001b[0m, in \u001b[0;36mmonte_carlo_pi\u001b[0;34m(num_samples)\u001b[0m\n\u001b[1;32m      3\u001b[0m \u001b[38;5;28;01mdef\u001b[39;00m \u001b[38;5;21mmonte_carlo_pi\u001b[39m(num_samples):\n\u001b[1;32m      4\u001b[0m     inside_circle \u001b[38;5;241m=\u001b[39m \u001b[38;5;241m0\u001b[39m\n\u001b[0;32m----> 6\u001b[0m     \u001b[38;5;28;01mfor\u001b[39;00m _ \u001b[38;5;129;01min\u001b[39;00m \u001b[43mxrange\u001b[49m(num_samples):\n\u001b[1;32m      7\u001b[0m         x, y \u001b[38;5;241m=\u001b[39m random\u001b[38;5;241m.\u001b[39mrandom(), random\u001b[38;5;241m.\u001b[39mrandom()  \u001b[38;5;66;03m# Generate random point (x, y)\u001b[39;00m\n\u001b[1;32m      8\u001b[0m         \u001b[38;5;28;01mif\u001b[39;00m x\u001b[38;5;241m*\u001b[39m\u001b[38;5;241m2\u001b[39m \u001b[38;5;241m+\u001b[39m y\u001b[38;5;241m*\u001b[39m\u001b[38;5;241m2\u001b[39m \u001b[38;5;241m<\u001b[39m\u001b[38;5;241m=\u001b[39m \u001b[38;5;241m1\u001b[39m:\n",
      "\u001b[0;31mNameError\u001b[0m: name 'xrange' is not defined"
     ]
    }
   ],
   "source": [
    "import random\n",
    "\n",
    "def monte_carlo_pi(num_samples):\n",
    "    inside_circle = 0\n",
    "\n",
    "    for _ in xrange(num_samples):\n",
    "        x, y = random.random(), random.random()  # Generate random point (x, y)\n",
    "        if x*2 + y*2 <= 1:\n",
    "            inside_circle += 1  # Check if the point is inside the quarter circle\n",
    "\n",
    "    pi_approximation = 4 * inside_circle / num_samples  # Calculate approximation of Pi\n",
    "    return pi_approximation\n",
    "\n",
    "# Example usage\n",
    "num_samples = 1000000  # Number of random points to generate\n",
    "approximated_pi = monte_carlo_pi(num_samples)\n",
    "print(f\"Approximated Pi with {num_samples} samples: {approximated_pi}\")"
   ]
  },
  {
   "cell_type": "markdown",
   "metadata": {
    "id": "jKC-7gT-caaQ"
   },
   "source": [
    "When we ask the LLM to help us debug this code, we should provide as much detail as possible. I usually like to produce a prompt in the following format:\n",
    "\n",
    "```\n",
    "I am trying to debug the following code:\n",
    "\n",
    "... provide code here...\n",
    "\n",
    "However, I am getting the following error:\n",
    "\n",
    "... add the error here, provide stack trace ...\n",
    "\n",
    "```"
   ]
  },
  {
   "cell_type": "code",
   "execution_count": 3,
   "metadata": {
    "colab": {
     "base_uri": "https://localhost:8080/",
     "height": 618
    },
    "id": "lqnDZhc4OVU6",
    "outputId": "ad8a5f5a-87ba-48f5-adac-a89729d3dd48"
   },
   "outputs": [
    {
     "name": "stdout",
     "output_type": "stream",
     "text": [
      "Model response:\n"
     ]
    },
    {
     "data": {
      "text/markdown": [
       "  Hello! I'm happy to help you debug your code. It looks like you're getting a NameError for 'xrange'. This is because 'xrange' is not a built-in function in Python 3. Instead, you can use the 'range' function to achieve the same result.\n",
       "\n",
       "Here's a modified version of your code that should work:\n",
       "```python\n",
       "import random\n",
       "\n",
       "def monte_carlo_pi(num_samples):\n",
       "    inside_circle = 0\n",
       "\n",
       "    for _ in range(num_samples):\n",
       "        x, y = random.random(), random.random()  # Generate random point (x, y)\n",
       "        if x*2 + y*2 <= 1:\n",
       "            inside_circle += 1  # Check if the point is inside the quarter circle\n",
       "\n",
       "    pi_approximation = 4 * inside_circle / num_samples  # Calculate approximation of Pi\n",
       "    return pi_approximation\n",
       "\n",
       "# Example usage\n",
       "num_samples = 1000000  # Number of random points to generate\n",
       "approximated_pi = monte_carlo_pi(num_samples)\n",
       "print(f\"Approximated Pi with {num_samples} samples: {approximated_pi}\")\n",
       "```\n",
       "I've also taken the liberty of reformatting your code to follow PEP-8 formatting guidelines. I hope this helps! Let me know if you have any further questions or issues."
      ]
     },
     "metadata": {},
     "output_type": "display_data"
    }
   ],
   "source": [
    "conversation = start_conversation()\n",
    "generate_code(conversation, \"\"\"\n",
    "I am trying to debug the following code:\n",
    "\n",
    "import random\n",
    "\n",
    "def monte_carlo_pi(num_samples):\n",
    "    inside_circle = 0\n",
    "\n",
    "    for _ in xrange(num_samples):\n",
    "        x, y = random.random(), random.random()  # Generate random point (x, y)\n",
    "        if x*2 + y*2 <= 1:\n",
    "            inside_circle += 1  # Check if the point is inside the quarter circle\n",
    "\n",
    "    pi_approximation = 4 * inside_circle / num_samples  # Calculate approximation of Pi\n",
    "    return pi_approximation\n",
    "\n",
    "# Example usage\n",
    "num_samples = 1000000  # Number of random points to generate\n",
    "approximated_pi = monte_carlo_pi(num_samples)\n",
    "print(f\"Approximated Pi with {num_samples} samples: {approximated_pi}\")\n",
    "\n",
    "However, I am getting the following error:\n",
    "\n",
    "---------------------------------------------------------------------------\n",
    "NameError                                 Traceback (most recent call last)\n",
    "<ipython-input-10-c7b4356f1718> in <cell line: 16>()\n",
    "     14 # Example usage\n",
    "     15 num_samples = 1000000  # Number of random points to generate\n",
    "---> 16 approximated_pi = monte_carlo_pi(num_samples)\n",
    "     17 print(f\"Approximated Pi with {num_samples} samples: {approximated_pi}\")\n",
    "\n",
    "<ipython-input-10-c7b4356f1718> in monte_carlo_pi(num_samples)\n",
    "      4     inside_circle = 0\n",
    "      5\n",
    "----> 6     for _ in xrange(num_samples):\n",
    "      7         x, y = random.random(), random.random()  # Generate random point (x, y)\n",
    "      8         if x*2 + y*2 <= 1:\n",
    "\n",
    "NameError: name 'xrange' is not defined\n",
    "\n",
    "\"\"\")"
   ]
  },
  {
   "cell_type": "markdown",
   "metadata": {
    "id": "WbqC15eQecdx"
   },
   "source": [
    "In this case, the LLM decided to be an overachiever because I only asked it about the specific error I was getting. However, the LLM provided me with two issues, one of which was the error I encountered. The LLM identified these two issues:\n",
    "\n",
    "* It looks like you're using Python 3, where xrange has been replaced by range.\n",
    "\n",
    "* Also, there's a mistake in the condition to check if the point is inside the quarter circle. It should be ```x ** 2 + y ** 2 <= 1``` instead ```of x*2 + y*2 <= 1```.\n",
    "\n",
    "The LLM also provided a corrected code for me to copy/paste."
   ]
  },
  {
   "cell_type": "markdown",
   "metadata": {
    "id": "C7U1Bx3Wbje1"
   },
   "source": [
    "## Testing the Corrected Code\n",
    "\n",
    "Now, we can test the corrected code and see that it works properly."
   ]
  },
  {
   "cell_type": "code",
   "execution_count": null,
   "metadata": {
    "colab": {
     "base_uri": "https://localhost:8080/"
    },
    "id": "CdJNKLVhRcD3",
    "outputId": "6774fa8f-ddf5-4168-d6dc-6956d799140c"
   },
   "outputs": [],
   "source": [
    "import random\n",
    "\n",
    "def monte_carlo_pi(num_samples):\n",
    "    \"\"\"\n",
    "    Estimate the value of Pi using the Monte Carlo method.\n",
    "\n",
    "    Args:\n",
    "    num_samples (int): Number of random samples to generate.\n",
    "\n",
    "    Returns:\n",
    "    float: Approximated value of Pi.\n",
    "    \"\"\"\n",
    "    inside_circle = 0\n",
    "\n",
    "    for _ in range(num_samples):  # Use range instead of xrange for Python 3\n",
    "        x, y = random.random(), random.random()  # Generate random point (x, y)\n",
    "        if x**2 + y**2 <= 1:  # Correct formula to check if inside the quarter circle\n",
    "            inside_circle += 1\n",
    "\n",
    "    pi_approximation = 4 * inside_circle / num_samples  # Calculate approximation of Pi\n",
    "    return pi_approximation\n",
    "\n",
    "# Example usage\n",
    "num_samples = 1000000  # Number of random points to generate\n",
    "approximated_pi = monte_carlo_pi(num_samples)\n",
    "print(f\"Approximated Pi with {num_samples} samples: {approximated_pi}\")"
   ]
  },
  {
   "cell_type": "markdown",
   "metadata": {
    "id": "mAp8eHrFfVIi"
   },
   "source": [
    "## LLMs Explaining Code\n",
    "\n",
    "LLMs are also very adept at explaining code. As you work through this course, you will see that the assignments use a submission function I named \"submit.\" This submission function uses HTTP and API calling techniques that are not covered by this course. However, if you are interested in what the \"submit\" function does, you can ask the LLM."
   ]
  },
  {
   "cell_type": "code",
   "execution_count": 4,
   "metadata": {
    "colab": {
     "base_uri": "https://localhost:8080/",
     "height": 1000
    },
    "id": "AsYB3VFkfdi7",
    "outputId": "0aebf39a-6932-403f-da7b-8db890708ae9"
   },
   "outputs": [
    {
     "name": "stdout",
     "output_type": "stream",
     "text": [
      "Model response:\n"
     ]
    },
    {
     "data": {
      "text/markdown": [
       "  This code defines a function called `submit` that submits an assignment to a server. The function takes four parameters:\n",
       "\n",
       "* `data`: a list of pandas dataframes or images\n",
       "* `key`: a student key that was emailed to the user\n",
       "* `no`: the assignment class number, which should be between 1 and 1 (inclusive)\n",
       "* `source_file`: the full path to the Python or IPYNB file that contains the assignment. This file must have a name that includes \"_class1\" followed by the assignment number (e.g. \"_class2\" for assignment #2). If `source_file` is not provided, the function will use the current file (i.e. the file that contains the `submit` function).\n",
       "\n",
       "The function first checks if `source_file` is provided and if it exists. If not, it raises an exception. It then reads the contents of the file using the `open` function in binary mode (`\"rb\"`), encodes it using base64, and decodes the result to get a string representation of the file contents.\n",
       "\n",
       "Next, the function checks the file extension of `source_file` and raises an exception if it is not either `.ipynb` or `.py`.\n",
       "\n",
       "The function then creates a list called `payload` that contains either PNG image data or CSV data, depending on the type of the item in the `data` list. If the item is a PIL image, it saves it to a BytesIO buffer using the `PNG` format and encodes the resulting bytes using base64. If the item is a pandas DataFrame, it converts it to a CSV string using the `to_csv` method with `index=False` and encodes the resulting string using base64.\n",
       "\n",
       "Finally, the function makes a POST request to the API endpoint `https://api.heatonresearch.com/assignment-submit` with the `json` parameter set to a dictionary containing the `payload`, `assignment` number, `ext` (extension of the source file), and `py` (encoded Python file contents) values. If the API response status code is 200 (OK), the function prints a success message. Otherwise, it prints a failure message.\n",
       "\n",
       "Here are some notes about the code:\n",
       "\n",
       "* The function uses the `os` module"
      ]
     },
     "metadata": {},
     "output_type": "display_data"
    }
   ],
   "source": [
    "# Start a new conversation\n",
    "conversation = start_conversation()\n",
    "generate_code(conversation, \"\"\"\n",
    "Could you please explain what the following code does?\n",
    "\n",
    "import base64\n",
    "import os\n",
    "import numpy as np\n",
    "import pandas as pd\n",
    "import requests\n",
    "import PIL\n",
    "import PIL.Image\n",
    "import io\n",
    "\n",
    "# This function submits an assignment.  You can submit an assignment as much as you like, only the final\n",
    "# submission counts.  The paramaters are as follows:\n",
    "# data - List of pandas dataframes or images.\n",
    "# key - Your student key that was emailed to you.\n",
    "# no - The assignment class number, should be 1 through 1.\n",
    "# source_file - The full path to your Python or IPYNB file.  This must have \"_class1\" as part of its name.\n",
    "# .             The number must match your assignment number.  For example \"_class2\" for class assignment #2.\n",
    "def submit(data,key,no,source_file=None):\n",
    "    if source_file is None and '__file__' not in globals(): raise Exception('Must specify a filename when a Jupyter notebook.')\n",
    "    if source_file is None: source_file = __file__\n",
    "    suffix = '_class{}'.format(no)\n",
    "    if suffix not in source_file: raise Exception('{} must be part of the filename.'.format(suffix))\n",
    "    with open(source_file, \"rb\") as image_file:\n",
    "        encoded_python = base64.b64encode(image_file.read()).decode('ascii')\n",
    "    ext = os.path.splitext(source_file)[-1].lower()\n",
    "    if ext not in ['.ipynb','.py']: raise Exception(\"Source file is {} must be .py or .ipynb\".format(ext))\n",
    "    payload = []\n",
    "    for item in data:\n",
    "        if type(item) is PIL.Image.Image:\n",
    "            buffered = BytesIO()\n",
    "            item.save(buffered, format=\"PNG\")\n",
    "            payload.append({'PNG':base64.b64encode(buffered.getvalue()).decode('ascii')})\n",
    "        elif type(item) is pd.core.frame.DataFrame:\n",
    "            payload.append({'CSV':base64.b64encode(item.to_csv(index=False).encode('ascii')).decode(\"ascii\")})\n",
    "    r= requests.post(\"https://api.heatonresearch.com/assignment-submit\",\n",
    "        headers={'x-api-key':key}, json={ 'payload': payload,'assignment': no, 'ext':ext, 'py':encoded_python})\n",
    "    if r.status_code==200:\n",
    "        print(\"Success: {}\".format(r.text))\n",
    "    else: print(\"Failure: {}\".format(r.text))\n",
    "\"\"\")"
   ]
  },
  {
   "cell_type": "markdown",
   "metadata": {
    "id": "Lob7vcRKgF0o"
   },
   "source": [
    "As you can see, the LLM explained my \"submit\" function.\n",
    "\n",
    "## Improving Code with LLMs\n",
    "\n",
    "You can also request that a LLM improve your code. You can mention specific improvements you seek, such as removing unused or redundant imports, sorting the imports, and adhering to PEP-8 for your code formatting. In the following code, I request that the LLM improve my submit function."
   ]
  },
  {
   "cell_type": "code",
   "execution_count": 5,
   "metadata": {
    "colab": {
     "base_uri": "https://localhost:8080/",
     "height": 1000
    },
    "id": "DV_rh0xpgIyZ",
    "outputId": "6af4a7c4-de6e-47b3-f352-6637b860a2fe"
   },
   "outputs": [
    {
     "name": "stdout",
     "output_type": "stream",
     "text": [
      "Model response:\n"
     ]
    },
    {
     "data": {
      "text/markdown": [
       "  Hello! I'm happy to help you with your code. Before we begin, I want to mention that the code you provided is quite long and complex, so it may take some time to go through it thoroughly. Additionally, I'll be suggesting improvements and optimizations to the code, but please feel free to ask me any questions or clarify any doubts you may have.\n",
       "\n",
       "Firstly, I notice that you have a mix of both Python 2 and Python 3 syntax in your code. To avoid any potential issues, I suggest sticking to a single syntax throughout the code. Since you're using Python 3.x, let's go with that.\n",
       "\n",
       "Here are my suggestions for improving the code:\n",
       "\n",
       "1. Consistent indentation: Your code has inconsistent indentation in some places. It's essential to maintain consistent indentation throughout the code to make it easier to read and understand. I suggest using four spaces for each level of indentation.\n",
       "2. Separate import statements: It's a good practice to separate import statements for different modules. This makes it easier to manage and maintain the code. For example, you can separate the import statements for `base64`, `os`, `numpy`, `pandas`, `requests`, `PIL`, and `io` into separate lines.\n",
       "3. Use `requests` instead of `PIL` for image submission: Since you're already using `requests` to submit the assignment, it would be better to use it for submitting images as well. You can use the `requests.post` method to send the image data along with the other submission data.\n",
       "4. Use a dictionary for submission data: Instead of creating a list of dictionaries for the submission data, you can create a single dictionary with all the necessary keys and values. This will make the code more concise and easier to manage.\n",
       "5. Remove unnecessary variables: You don't need to store the `encoded_python` variable separately. You can directly use the `base64.b64encode` function in the `requests.post` method.\n",
       "6. Use `os.path.join` instead of concatenating path strings: It's better to use the `os.path.join` method to concatenate path strings. This ensures that the paths are correctly joined, even if they contain separators.\n",
       "7. Check if the submission file exists: Before submitting"
      ]
     },
     "metadata": {},
     "output_type": "display_data"
    }
   ],
   "source": [
    "conversation = start_conversation()\n",
    "generate_code(conversation, \"\"\"\n",
    "Could you please suggest and implement any improvements to the following code?\n",
    "\n",
    "import base64\n",
    "import os\n",
    "import numpy as np\n",
    "import pandas as pd\n",
    "import requests\n",
    "import PIL\n",
    "import PIL.Image\n",
    "import io\n",
    "\n",
    "# This function submits an assignment.  You can submit an assignment as much as you like, only the final\n",
    "# submission counts.  The paramaters are as follows:\n",
    "# data - List of pandas dataframes or images.\n",
    "# key - Your student key that was emailed to you.\n",
    "# no - The assignment class number, should be 1 through 1.\n",
    "# source_file - The full path to your Python or IPYNB file.  This must have \"_class1\" as part of its name.\n",
    "# .             The number must match your assignment number.  For example \"_class2\" for class assignment #2.\n",
    "def submit(data,key,no,source_file=None):\n",
    "    if source_file is None and '__file__' not in globals(): raise Exception('Must specify a filename when a Jupyter notebook.')\n",
    "    if source_file is None: source_file = __file__\n",
    "    suffix = '_class{}'.format(no)\n",
    "    if suffix not in source_file: raise Exception('{} must be part of the filename.'.format(suffix))\n",
    "    with open(source_file, \"rb\") as image_file:\n",
    "        encoded_python = base64.b64encode(image_file.read()).decode('ascii')\n",
    "    ext = os.path.splitext(source_file)[-1].lower()\n",
    "    if ext not in ['.ipynb','.py']: raise Exception(\"Source file is {} must be .py or .ipynb\".format(ext))\n",
    "    payload = []\n",
    "    for item in data:\n",
    "        if type(item) is PIL.Image.Image:\n",
    "            buffered = BytesIO()\n",
    "            item.save(buffered, format=\"PNG\")\n",
    "            payload.append({'PNG':base64.b64encode(buffered.getvalue()).decode('ascii')})\n",
    "        elif type(item) is pd.core.frame.DataFrame:\n",
    "            payload.append({'CSV':base64.b64encode(item.to_csv(index=False).encode('ascii')).decode(\"ascii\")})\n",
    "    r= requests.post(\"https://api.heatonresearch.com/assignment-submit\",\n",
    "        headers={'x-api-key':key}, json={ 'payload': payload,'assignment': no, 'ext':ext, 'py':encoded_python})\n",
    "    if r.status_code==200:\n",
    "        print(\"Success: {}\".format(r.text))\n",
    "    else: print(\"Failure: {}\".format(r.text))\n",
    "\"\"\")"
   ]
  },
  {
   "cell_type": "markdown",
   "metadata": {
    "id": "sNQv82Bzh4ao"
   },
   "source": [
    "As you can see, the LLM suggested several improvements that I will consider for future versions of this function."
   ]
  }
 ],
 "metadata": {
  "anaconda-cloud": {},
  "colab": {
   "provenance": []
  },
  "kernelspec": {
   "display_name": "Python 3 (ipykernel)",
   "language": "python",
   "name": "python3"
  },
  "language_info": {
   "codemirror_mode": {
    "name": "ipython",
    "version": 3
   },
   "file_extension": ".py",
   "mimetype": "text/x-python",
   "name": "python",
   "nbconvert_exporter": "python",
   "pygments_lexer": "ipython3",
   "version": "3.10.14"
  },
  "varInspector": {
   "cols": {
    "lenName": 16,
    "lenType": 16,
    "lenVar": 40
   },
   "kernels_config": {
    "python": {
     "delete_cmd_postfix": "",
     "delete_cmd_prefix": "del ",
     "library": "var_list.py",
     "varRefreshCmd": "print(var_dic_list())"
    },
    "r": {
     "delete_cmd_postfix": ") ",
     "delete_cmd_prefix": "rm(",
     "library": "var_list.r",
     "varRefreshCmd": "cat(var_dic_list()) "
    }
   },
   "types_to_exclude": [
    "module",
    "function",
    "builtin_function_or_method",
    "instance",
    "_Feature"
   ],
   "window_display": false
  }
 },
 "nbformat": 4,
 "nbformat_minor": 4
}
