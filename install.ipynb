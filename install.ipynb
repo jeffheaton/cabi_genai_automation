{
 "cells": [
  {
   "cell_type": "code",
   "execution_count": 6,
   "id": "6bca50a6-1ecc-4558-873c-22f5e0917ef3",
   "metadata": {},
   "outputs": [
    {
     "name": "stdout",
     "output_type": "stream",
     "text": [
      "Hit:1 http://security.ubuntu.com/ubuntu jammy-security InRelease\n",
      "Hit:2 http://archive.ubuntu.com/ubuntu jammy InRelease\n",
      "Get:3 http://archive.ubuntu.com/ubuntu jammy-updates InRelease [119 kB]\n",
      "Hit:4 http://archive.ubuntu.com/ubuntu jammy-backports InRelease\n",
      "Fetched 119 kB in 1s (175 kB/s)\n",
      "Reading package lists... Done\n",
      "Reading package lists... Done\n",
      "Building dependency tree... Done\n",
      "Reading state information... Done\n",
      "libgl1-mesa-glx is already the newest version (23.0.4-0ubuntu1~22.04.1).\n",
      "0 upgraded, 0 newly installed, 0 to remove and 20 not upgraded.\n",
      "Reading package lists... Done\n",
      "Building dependency tree... Done\n",
      "Reading state information... Done\n",
      "wkhtmltopdf is already the newest version (0.12.6-2).\n",
      "0 upgraded, 0 newly installed, 0 to remove and 20 not upgraded.\n"
     ]
    }
   ],
   "source": [
    "!sudo apt-get update\n",
    "!sudo apt-get install -y libgl1-mesa-glx\n",
    "!sudo apt-get install -y wkhtmltopdf\n",
    "!pip install --upgrade --quiet langchain-aws opencv-python pypdf langchain-text-splitters pdfkit pydantic anthropic"
   ]
  },
  {
   "cell_type": "code",
   "execution_count": null,
   "id": "f53a5d9f-be7c-430c-ab43-503176020c0b",
   "metadata": {},
   "outputs": [],
   "source": []
  }
 ],
 "metadata": {
  "kernelspec": {
   "display_name": "Python 3 (ipykernel)",
   "language": "python",
   "name": "python3"
  },
  "language_info": {
   "codemirror_mode": {
    "name": "ipython",
    "version": 3
   },
   "file_extension": ".py",
   "mimetype": "text/x-python",
   "name": "python",
   "nbconvert_exporter": "python",
   "pygments_lexer": "ipython3",
   "version": "3.10.14"
  }
 },
 "nbformat": 4,
 "nbformat_minor": 5
}
