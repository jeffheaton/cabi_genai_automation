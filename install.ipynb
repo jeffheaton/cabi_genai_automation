{
 "cells": [
  {
   "cell_type": "code",
   "execution_count": null,
   "id": "f53a5d9f-be7c-430c-ab43-503176020c0b",
   "metadata": {},
   "outputs": [],
   "source": [
    "# System dependencies\n",
    "!sudo apt-get update\n",
    "!sudo apt-get install -y libgl1-mesa-glx\n",
    "!sudo apt-get install -y wkhtmltopdf\n",
    "\n",
    "# Install Python packages with specific versions to resolve dependencies\n",
    "!pip install --upgrade --quiet\n",
    "!pip install pydantic==1.*  # Compatible version for sagemaker-jupyterlab-extension-common and others\n",
    "!pip install dash-core-components==2.0.0 dash-html-components==2.0.0 dash-table==5.0.0  # Specific versions for Dash\n",
    "!pip install pandas<2.0.0,>=0.17.1  # Version required by sparkmagic\n",
    "!pip install typing-extensions<4.6.0,>=3.6.6  # Version required by tensorflow\n",
    "!pip install opencv-python pdfkit\n",
    "!pip install langchain-aws pypdf langchain-text-splitters  # Install other packages as needed\n",
    "!pip uninstall pydantic -y\n",
    "!pip install pydantic==1.10.8\n",
    "!pip install anthropic"
   ]
  },
  {
   "cell_type": "code",
   "execution_count": null,
   "id": "fb43ea21-3456-4366-bb6c-a37aa8fb1ae7",
   "metadata": {},
   "outputs": [],
   "source": []
  }
 ],
 "metadata": {
  "kernelspec": {
   "display_name": "Python 3 (ipykernel)",
   "language": "python",
   "name": "python3"
  },
  "language_info": {
   "codemirror_mode": {
    "name": "ipython",
    "version": 3
   },
   "file_extension": ".py",
   "mimetype": "text/x-python",
   "name": "python",
   "nbconvert_exporter": "python",
   "pygments_lexer": "ipython3",
   "version": "3.10.14"
  }
 },
 "nbformat": 4,
 "nbformat_minor": 5
}
