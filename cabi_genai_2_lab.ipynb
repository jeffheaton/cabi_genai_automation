{
 "cells": [
  {
   "cell_type": "markdown",
   "metadata": {
    "id": "whjsJasuhstV"
   },
   "source": [
    "# Introduction to Automation with LangChain, Generative AI, and Python\n",
    "**Lab 2: Email assistant**\n",
    "* Instructor: [Jeff Heaton](https://youtube.com/@HeatonResearch), WUSTL Center for Analytics and Business Insight (CABI), [Washington University in St. Louis](https://olin.wustl.edu/faculty-and-research/research-centers/center-for-analytics-and-business-insight/index.php)\n",
    "* For more information visit the [class website](https://github.com/jeffheaton/cabi_genai_automation).\n",
    "\n",
    "# Instructions\n",
    "\n",
    "You are a faculty member writing an assistant for your incoming emails. You can access 10 such emails with this function, just pass a number between 1 and 10."
   ]
  },
  {
   "cell_type": "code",
   "execution_count": 1,
   "metadata": {},
   "outputs": [],
   "source": [
    "import requests\n",
    "\n",
    "def get_email(i):\n",
    "    if i<1 or i>10:\n",
    "        raise Exception(\"Invalid email number\")\n",
    "        \n",
    "    # URL to download\n",
    "    url = f\"https://data.heatonresearch.com/wustl/CABI/genai-langchain/emails/email_{i}.txt\"\n",
    "    \n",
    "    # Perform a GET request to the URL\n",
    "    response = requests.get(url)\n",
    "    \n",
    "    # Check if the request was successful\n",
    "    if response.status_code == 200:\n",
    "        # Convert the content of the response to a string\n",
    "        content = response.text\n",
    "        return content\n",
    "    else:\n",
    "        raise Exception(\"Failed to retrieve the content\")\n"
   ]
  },
  {
   "cell_type": "markdown",
   "metadata": {},
   "source": [
    "For example, the following displays email #1."
   ]
  },
  {
   "cell_type": "code",
   "execution_count": 2,
   "metadata": {},
   "outputs": [
    {
     "name": "stdout",
     "output_type": "stream",
     "text": [
      "Dear Professor Lawson,\n",
      "\n",
      "I'm Alex Chen, leader of team Nova in the Data Science Challenge (Spring 2019).\n",
      "\n",
      "I am seeking to pursue a PhD in Computer Science, and I am hoping you could provide a recommendation letter for my applications.\n",
      "\n",
      "This term has been unexpectedly demanding, leading to delays in preparing my applications. I acknowledge the timing is not ideal, but I am committed to completing my applications diligently.\n",
      "\n",
      "Your guidance in CSC 402 Advanced Machine Learning and your support in my research project have been invaluable. I was particularly drawn to this field, prompting me to enroll in your course despite it not contributing to my major credits. The course proved to be highly beneficial, enriching my understanding through online lectures and practical assignments. I excelled in the course, securing an A+ and leading my team to the top position in the semester's Data Science Challenge.\n",
      "\n",
      "In the previous term (Fall 2019), I encountered a challenging issue in my project on \"Automated Segmentation of Cardiac MRI Images\". After discussing this in a campus session, you introduced me to a seminal paper on convolutional networks, which greatly influenced my approach to developing an image segmentation model using advanced neural network techniques.\n",
      "\n",
      "Looking ahead, I aim to delve deeper into Machine Learning and computational models. The knowledge acquired from your course is sure to be a significant advantage in my future studies.\n",
      "\n",
      "I have attached my most recent CV and academic transcript for your review. I am applying to approximately 10 universities, with the earliest deadline on January 5th. I would appreciate the opportunity to discuss this further. Thank you very much, and I hope you have a wonderful holiday season!\n",
      "\n",
      "Best regards,\n",
      "Alex Chen\n"
     ]
    }
   ],
   "source": [
    "print(get_email(1))"
   ]
  },
  {
   "cell_type": "markdown",
   "metadata": {},
   "source": [
    "Now create a program that loops over all 10 and classifies each email as one of the following.\n",
    "\n",
    "* spam - For marketing emails trying to sell something\n",
    "* faculty - For faculty annoucements and requests\n",
    "* help - For students requesting help on an assignment\n",
    "* lor - For students requesting a letter of recommendation\n",
    "\n",
    "If the email fits into none of these, then classify it as \"other\". If the email is a request for help on an assignment, determine the assignment number the student is asking about.\n",
    "\n",
    "The following is sample, but incorrect, output.\n",
    "\n",
    "```\n",
    "Email #1 is: spam\n",
    "Email #2 is: other\n",
    "Email #3 is: \n",
    "Email #4 is a question about assignment #7\n",
    "Email #3 is: faculty\n",
    "Email #4 is: lor\n",
    "Email #5 is: spam\n",
    "Email #6 is: other\n",
    "Email #7 is a question about assignment #3\n",
    "Email #8 is: faculty\n",
    "Email #9 is: spam\n",
    "Email #10 is: other\n",
    "```\n"
   ]
  },
  {
   "cell_type": "code",
   "execution_count": null,
   "metadata": {},
   "outputs": [],
   "source": []
  }
 ],
 "metadata": {
  "anaconda-cloud": {},
  "colab": {
   "provenance": []
  },
  "kernelspec": {
   "display_name": "Python 3 (ipykernel)",
   "language": "python",
   "name": "python3"
  },
  "language_info": {
   "codemirror_mode": {
    "name": "ipython",
    "version": 3
   },
   "file_extension": ".py",
   "mimetype": "text/x-python",
   "name": "python",
   "nbconvert_exporter": "python",
   "pygments_lexer": "ipython3",
   "version": "3.10.10"
  },
  "varInspector": {
   "cols": {
    "lenName": 16,
    "lenType": 16,
    "lenVar": 40
   },
   "kernels_config": {
    "python": {
     "delete_cmd_postfix": "",
     "delete_cmd_prefix": "del ",
     "library": "var_list.py",
     "varRefreshCmd": "print(var_dic_list())"
    },
    "r": {
     "delete_cmd_postfix": ") ",
     "delete_cmd_prefix": "rm(",
     "library": "var_list.r",
     "varRefreshCmd": "cat(var_dic_list()) "
    }
   },
   "types_to_exclude": [
    "module",
    "function",
    "builtin_function_or_method",
    "instance",
    "_Feature"
   ],
   "window_display": false
  }
 },
 "nbformat": 4,
 "nbformat_minor": 4
}
