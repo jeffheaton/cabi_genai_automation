{
 "cells": [
  {
   "cell_type": "markdown",
   "metadata": {},
   "source": [
    "# Introduction to Automation with LangChain, Generative AI, and Python\n",
    "**1.2: Prompting for Code Generation**\n",
    "* Instructor: [Jeff Heaton](https://youtube.com/@HeatonResearch), WUSTL Center for Analytics and Business Insight (CABI), [Washington University in St. Louis](https://olin.wustl.edu/faculty-and-research/research-centers/center-for-analytics-and-business-insight/index.php)\n",
    "* For more information visit the [class website](https://github.com/jeffheaton/cabi_genai_automation)."
   ]
  },
  {
   "cell_type": "markdown",
   "metadata": {
    "id": "pC9A-LaYhsta"
   },
   "source": [
    "## Bedrock for Code Generation\n",
    "\n",
    "LLMs are adept at generating code and can considerably boost programmers' productivity. This technical course requires you to create programs for the assignments. You might wonder if I consider it  \"cheating\" to utilize LLMs to help you write your homework assignments. For this course, I do not consider it cheating to use AI to help you with assignments; I expect such utilization in this course.\n",
    "\n",
    "You can use the same Bedrock LLMs that your Bedrock grants access to for code generation. You also have other options, which may give you access to even greater code generation capabilities, though OpenAI should be sufficient for this class.\n",
    "\n",
    "There are three possible LLM-based code generation tools. All three require additional fees for use.\n",
    "\n",
    "* [GitHub CoPilot](https://github.com/features/copilot)\n",
    "* [ChatGPT](https://chat.openai.com/)\n",
    "* [Amazon CodeWhisperer/Q Developer](https://aws.amazon.com/codewhisperer/)\n",
    "\n",
    "You can use the code below to access OpenAI for code generation."
   ]
  },
  {
   "cell_type": "code",
   "execution_count": 1,
   "metadata": {
    "colab": {
     "background_save": true
    },
    "id": "TMF-rtxgRAea"
   },
   "outputs": [],
   "source": [
    "from langchain_core.messages import HumanMessage, SystemMessage\n",
    "from langchain_core.prompts.chat import (\n",
    "    ChatPromptTemplate,\n",
    "    HumanMessagePromptTemplate,\n",
    "    SystemMessagePromptTemplate,\n",
    ")\n",
    "from IPython.display import display_markdown\n",
    "from langchain_aws import ChatBedrock\n",
    "\n",
    "\n",
    "MODEL = 'anthropic.claude-3-sonnet-20240229-v1:0'\n",
    "\n",
    "def generate_code(prompt):\n",
    "  messages = [\n",
    "      SystemMessage(\n",
    "          content=\"You are a helpful assistant that writes reliable computer program code.\"\n",
    "      ),\n",
    "      HumanMessage(content=prompt),\n",
    "  ]\n",
    "\n",
    "  # Initialize bedrock, use built in role\n",
    "  llm = ChatBedrock(\n",
    "        model_id=MODEL,\n",
    "        model_kwargs={\"temperature\": 0.1},\n",
    "  )\n",
    "\n",
    "\n",
    "  print(\"Model response:\")\n",
    "  output = llm.invoke(messages)\n",
    "  display_markdown(output.content,raw=True)"
   ]
  },
  {
   "cell_type": "markdown",
   "metadata": {
    "id": "ClPhLkGldhPt"
   },
   "source": [
    "With the above function defined, you can now generate code. The code below generates a Python function to create a Fibonacci sequence."
   ]
  },
  {
   "cell_type": "code",
   "execution_count": 2,
   "metadata": {
    "colab": {
     "background_save": true,
     "base_uri": "https://localhost:8080/",
     "height": 494
    },
    "id": "ydaqwgRiH4D6",
    "outputId": "52243a3a-b06b-44e6-a95e-ca398c9865a1"
   },
   "outputs": [
    {
     "name": "stdout",
     "output_type": "stream",
     "text": [
      "Model response:\n"
     ]
    },
    {
     "data": {
      "text/markdown": [
       "Here's a Python function that returns a list containing the Fibonacci sequence up to a specified length `l`:\n",
       "\n",
       "```python\n",
       "def fibonacci(l):\n",
       "    if l <= 0:\n",
       "        return []\n",
       "    elif l == 1:\n",
       "        return [0]\n",
       "    elif l == 2:\n",
       "        return [0, 1]\n",
       "    else:\n",
       "        fib_seq = [0, 1]\n",
       "        for i in range(2, l):\n",
       "            next_num = fib_seq[i-1] + fib_seq[i-2]\n",
       "            fib_seq.append(next_num)\n",
       "        return fib_seq\n",
       "```\n",
       "\n",
       "To use this function, simply call it with the desired length as an argument:\n",
       "\n",
       "```python\n",
       "print(fibonacci(10))  # Output: [0, 1, 1, 2, 3, 5, 8, 13, 21, 34]\n",
       "print(fibonacci(1))   # Output: [0]\n",
       "print(fibonacci(5))   # Output: [0, 1, 1, 2, 3]\n",
       "```\n",
       "\n",
       "Here's how the `fibonacci()` function works:\n",
       "\n",
       "1. First, it checks for invalid inputs (`l <= 0`) and returns an empty list `[]`.\n",
       "2. If `l` is 1, it returns `[0]` since the first Fibonacci number is 0.\n",
       "3. If `l` is 2, it returns `[0, 1]` since the first two Fibonacci numbers are 0 and 1.\n",
       "4. For `l > 2`, it initializes the `fib_seq` list with `[0, 1]`.\n",
       "5. Then, it uses a `for` loop to generate the remaining Fibonacci numbers by adding the previous two numbers in the sequence.\n",
       "6. Finally, it returns the `fib_seq` list containing the Fibonacci sequence up to length `l`.\n",
       "\n",
       "Note that this implementation generates the Fibonacci sequence using the iterative approach, which is more efficient than the recursive approach for larger values of `l`."
      ]
     },
     "metadata": {},
     "output_type": "display_data"
    }
   ],
   "source": [
    "generate_code(\"\"\"Write Python code to return a fibonacci sequence of a length specified by the parameter l.\"\"\")"
   ]
  },
  {
   "cell_type": "markdown",
   "metadata": {
    "id": "8fzxOCfgeKUF"
   },
   "source": [
    "## Generating Methods"
   ]
  },
  {
   "cell_type": "code",
   "execution_count": 3,
   "metadata": {
    "colab": {
     "base_uri": "https://localhost:8080/",
     "height": 1000
    },
    "id": "priNIsKGgR7M",
    "outputId": "d9e826bf-f195-4a43-d459-765a473b23fc"
   },
   "outputs": [
    {
     "name": "stdout",
     "output_type": "stream",
     "text": [
      "Model response:\n"
     ]
    },
    {
     "data": {
      "text/markdown": [
       "Here's a Python function named `loan_amortization` that calculates the loan amortization schedule and returns a Pandas DataFrame with the requested columns:\n",
       "\n",
       "```python\n",
       "import pandas as pd\n",
       "import numpy as np\n",
       "\n",
       "def loan_amortization(loan_amount, apr, term):\n",
       "    # Convert APR to monthly interest rate\n",
       "    monthly_rate = apr / (12 * 100)\n",
       "\n",
       "    # Calculate the monthly payment\n",
       "    monthly_payment = loan_amount * (monthly_rate * (1 + monthly_rate) ** term) / ((1 + monthly_rate) ** term - 1)\n",
       "\n",
       "    # Create a dictionary to store the amortization schedule\n",
       "    amortization_schedule = {\n",
       "        'month': [],\n",
       "        'amount': [],\n",
       "        'principal': [],\n",
       "        'interest': [],\n",
       "        'payment': []\n",
       "    }\n",
       "\n",
       "    # Initialize the remaining loan amount\n",
       "    remaining_loan = loan_amount\n",
       "\n",
       "    # Loop through each month\n",
       "    for month in range(1, term + 1):\n",
       "        # Calculate the interest for this month\n",
       "        interest = remaining_loan * monthly_rate\n",
       "\n",
       "        # Calculate the principal for this month\n",
       "        principal = monthly_payment - interest\n",
       "\n",
       "        # Update the remaining loan amount\n",
       "        remaining_loan -= principal\n",
       "\n",
       "        # Append the values to the amortization schedule dictionary\n",
       "        amortization_schedule['month'].append(month)\n",
       "        amortization_schedule['amount'].append(remaining_loan)\n",
       "        amortization_schedule['principal'].append(principal)\n",
       "        amortization_schedule['interest'].append(interest)\n",
       "        amortization_schedule['payment'].append(monthly_payment)\n",
       "\n",
       "    # Create a Pandas DataFrame from the amortization schedule dictionary\n",
       "    amortization_df = pd.DataFrame(amortization_schedule)\n",
       "\n",
       "    return amortization_df\n",
       "```\n",
       "\n",
       "To use this function, you can call it with the loan amount, annual percentage rate (APR), and the term (number of months) as arguments:\n",
       "\n",
       "```python\n",
       "loan_amount = 200000\n",
       "apr = 6.5\n",
       "term = 360\n",
       "\n",
       "amortization_df = loan_amortization(loan_amount, apr, term)\n",
       "print(amortization_df)\n",
       "```\n",
       "\n",
       "This will output a Pandas DataFrame with the following columns:\n",
       "\n",
       "- `month`: The current month\n",
       "- `amount`: The amount left on the loan\n",
       "- `principal`: The amount paid to the principal this month\n",
       "- `interest`: The amount paid in interest this month\n",
       "- `payment`: The total payment this month\n",
       "\n",
       "The function first converts the APR to a monthly interest rate. It then calculates the monthly payment using the formula for the present value of an annuity. Next, it initializes a dictionary to store the amortization schedule.\n",
       "\n",
       "The function then loops through each month, calculating the interest, principal, and remaining loan amount for that month. These values are appended to the corresponding lists in the amortization schedule dictionary.\n",
       "\n",
       "Finally, the function creates a Pandas DataFrame from the amortization schedule dictionary and returns it.\n",
       "\n",
       "Note that this implementation assumes a fixed monthly payment and does not account for any additional fees or charges that may be associated with the loan."
      ]
     },
     "metadata": {},
     "output_type": "display_data"
    }
   ],
   "source": [
    "generate_code(\"\"\"\n",
    "Write a Python function named loan_amortization that accepts these parameters.\n",
    "loan_amount - The amount of the loan.\n",
    "apr - The interest rate.\n",
    "term - The number of months in the loan.\n",
    "The function should return a Pandas dataframe that contains the following columns:\n",
    "month - The current month.\n",
    "amount - The amount left on the loan.\n",
    "principal - The amount payed to the principal this month.\n",
    "interest - The amount paid in interest this month.\n",
    "payment - The total payment this month.\n",
    "Additionally, build a dictionary of columns to create the Pandas dataframe.\n",
    "\"\"\")"
   ]
  },
  {
   "cell_type": "code",
   "execution_count": 4,
   "metadata": {
    "colab": {
     "base_uri": "https://localhost:8080/"
    },
    "id": "dzhI5nTfgeS4",
    "outputId": "3a3c547b-5412-447b-aaec-93283f64e569"
   },
   "outputs": [
    {
     "name": "stdout",
     "output_type": "stream",
     "text": [
      "   month        amount   principal    interest     payment\n",
      "0      1  99879.845044  120.154956  416.666667  536.821623\n",
      "1      2  99759.189442  120.655602  416.166021  536.821623\n",
      "2      3  99638.031108  121.158334  415.663289  536.821623\n",
      "3      4  99516.367948  121.663160  415.158463  536.821623\n",
      "4      5  99394.197858  122.170090  414.651533  536.821623\n"
     ]
    }
   ],
   "source": [
    "import pandas as pd\n",
    "import numpy as np\n",
    "\n",
    "def loan_amortization(loan_amount, apr, term):\n",
    "    # Convert APR to monthly interest rate\n",
    "    monthly_rate = apr / (12 * 100)\n",
    "\n",
    "    # Calculate the monthly payment\n",
    "    monthly_payment = loan_amount * (monthly_rate * (1 + monthly_rate) ** term) / ((1 + monthly_rate) ** term - 1)\n",
    "\n",
    "    # Create a dictionary to store the amortization schedule\n",
    "    amortization_schedule = {\n",
    "        'month': [],\n",
    "        'amount': [],\n",
    "        'principal': [],\n",
    "        'interest': [],\n",
    "        'payment': []\n",
    "    }\n",
    "\n",
    "    # Initialize the remaining loan amount\n",
    "    remaining_loan = loan_amount\n",
    "\n",
    "    # Loop through each month\n",
    "    for month in range(1, term + 1):\n",
    "        # Calculate the interest for this month\n",
    "        interest = remaining_loan * monthly_rate\n",
    "\n",
    "        # Calculate the principal for this month\n",
    "        principal = monthly_payment - interest\n",
    "\n",
    "        # Update the remaining loan amount\n",
    "        remaining_loan -= principal\n",
    "\n",
    "        # Append the values to the amortization schedule dictionary\n",
    "        amortization_schedule['month'].append(month)\n",
    "        amortization_schedule['amount'].append(remaining_loan)\n",
    "        amortization_schedule['principal'].append(principal)\n",
    "        amortization_schedule['interest'].append(interest)\n",
    "        amortization_schedule['payment'].append(monthly_payment)\n",
    "\n",
    "    # Create a Pandas DataFrame from the amortization schedule dictionary\n",
    "    amortization_df = pd.DataFrame(amortization_schedule)\n",
    "\n",
    "    return amortization_df\n",
    "\n",
    "# Example usage:\n",
    "loan_amount = 100000  # $100,000 loan\n",
    "apr = 5  # 5% annual interest rate\n",
    "term = 360  # 30 years, 360 months\n",
    "\n",
    "df = loan_amortization(loan_amount, apr, term)\n",
    "print(df.head())  # Print the first few rows of the DataFrame"
   ]
  },
  {
   "cell_type": "markdown",
   "metadata": {
    "id": "Z_ZKqu8TeQcm"
   },
   "source": [
    "```\n",
    "Write a Python function named loan_amortization that accepts these parameters.\n",
    "loan_amount - The amount of the loan.\n",
    "apr - The interest rate.\n",
    "term - The number of months in the loan.\n",
    "The function should return a Pandas dataframe that contains the following columns:\n",
    "month - The current month.\n",
    "amount - The amount left on the loan.\n",
    "principal - The amount payed to the principal this month.\n",
    "interest - The amount paid in interest this month.\n",
    "payment - The total payment this month.\n",
    "```"
   ]
  },
  {
   "cell_type": "markdown",
   "metadata": {
    "id": "t15LDXS9mCI_"
   },
   "source": [
    "## Generating Larger Programs\n",
    "\n",
    "* [Kaggle competition to predict ages](https://www.kaggle.com/competitions/applications-of-deep-learning-wustl-fall-2023)\n",
    "\n"
   ]
  },
  {
   "cell_type": "code",
   "execution_count": 6,
   "metadata": {
    "colab": {
     "base_uri": "https://localhost:8080/",
     "height": 1000
    },
    "id": "q2ixb46lmI4Y",
    "outputId": "b1f03758-6fcd-4b65-91d2-bdad5fdf295a"
   },
   "outputs": [
    {
     "name": "stdout",
     "output_type": "stream",
     "text": [
      "Model response:\n"
     ]
    },
    {
     "data": {
      "text/markdown": [
       "Sure, I can help you with that. Here's a PyTorch GPU-enabled neural network code for the Kaggle competition you described:\n",
       "\n",
       "```python\n",
       "import torch\n",
       "import torch.nn as nn\n",
       "import torch.optim as optim\n",
       "from torch.utils.data import Dataset, DataLoader\n",
       "import pandas as pd\n",
       "from PIL import Image\n",
       "from torchvision import transforms\n",
       "import os\n",
       "\n",
       "# Set device to GPU if available\n",
       "device = torch.device(\"cuda\" if torch.cuda.is_available() else \"cpu\")\n",
       "\n",
       "# Define the dataset\n",
       "class FaceAgeDataset(Dataset):\n",
       "    def __init__(self, data_dir, csv_file, transform=None):\n",
       "        self.data_dir = data_dir\n",
       "        self.data = pd.read_csv(csv_file)\n",
       "        self.transform = transform\n",
       "\n",
       "    def __len__(self):\n",
       "        return len(self.data)\n",
       "\n",
       "    def __getitem__(self, idx):\n",
       "        filename = os.path.join(self.data_dir, self.data.iloc[idx, 1])\n",
       "        image = Image.open(filename)\n",
       "        age = self.data.iloc[idx, 2]\n",
       "        if self.transform:\n",
       "            image = self.transform(image)\n",
       "        return image, age\n",
       "\n",
       "# Define the neural network\n",
       "class FaceAgeNet(nn.Module):\n",
       "    def __init__(self):\n",
       "        super(FaceAgeNet, self).__init__()\n",
       "        self.conv1 = nn.Conv2d(3, 32, kernel_size=3, padding=1)\n",
       "        self.conv2 = nn.Conv2d(32, 64, kernel_size=3, padding=1)\n",
       "        self.pool = nn.MaxPool2d(2, 2)\n",
       "        self.fc1 = nn.Linear(64 * 8 * 8, 128)\n",
       "        self.fc2 = nn.Linear(128, 64)\n",
       "        self.fc3 = nn.Linear(64, 1)\n",
       "        self.relu = nn.ReLU()\n",
       "\n",
       "    def forward(self, x):\n",
       "        x = self.relu(self.conv1(x))\n",
       "        x = self.pool(x)\n",
       "        x = self.relu(self.conv2(x))\n",
       "        x = self.pool(x)\n",
       "        x = x.view(-1, 64 * 8 * 8)\n",
       "        x = self.relu(self.fc1(x))\n",
       "        x = self.relu(self.fc2(x))\n",
       "        x = self.fc3(x)\n",
       "        return x\n",
       "\n",
       "# Define the data transformations\n",
       "transform = transforms.Compose([\n",
       "    transforms.Resize((64, 64)),\n",
       "    transforms.ToTensor(),\n",
       "    transforms.Normalize(mean=[0.485, 0.456, 0.406], std=[0.229, 0.224, 0.225])\n",
       "])\n",
       "\n",
       "# Load the data\n",
       "train_dataset = FaceAgeDataset('/kaggle/input/applications-of-deep-learning-wustl-spring-2024/faces-age', '/kaggle/input/applications-of-deep-learning-wustl-spring-2024/faces-age/train.csv', transform=transform)\n",
       "test_dataset = FaceAgeDataset('/kaggle/input/applications-of-deep-learning-wustl-spring-2024/faces-age', '/kaggle/input/applications-of-deep-learning-wustl-spring-2024/faces-age/test.csv', transform=transform)\n",
       "\n",
       "# Create data loaders\n",
       "train_loader = DataLoader(train_dataset, batch_size=32, shuffle=True)\n",
       "test_loader = DataLoader(test_dataset, batch_size=32, shuffle=False)\n",
       "\n",
       "# Define the model, loss function, and optimizer\n",
       "model = FaceAgeNet().to(device)\n",
       "criterion = nn.MSELoss()\n",
       "optimizer = optim.Adam(model.parameters(), lr=0.001)\n",
       "\n",
       "# Train the model\n",
       "num_epochs = 100\n",
       "early_stopping_patience = 10\n",
       "min_val_loss = float('inf')\n",
       "best_model_state_dict = None\n",
       "\n",
       "for epoch in range(num_epochs):\n",
       "    train_loss = 0.0\n",
       "    val_loss = 0.0\n",
       "    model.train()\n",
       "    for images, ages in train_loader:\n",
       "        images, ages"
      ]
     },
     "metadata": {},
     "output_type": "display_data"
    }
   ],
   "source": [
    "generate_code(\"\"\"\n",
    "Create a PyTorch GPU-enabled neural network for a Kaggle competition that asks me to predict the age of people in provided images.\n",
    "The images are stored at this path: /kaggle/input/applications-of-deep-learning-wustl-spring-2024/faces-age.\n",
    "The training data is in the file: /kaggle/input/applications-of-deep-learning-wustl-spring-2024/faces-age/train.csv.\n",
    "The training data has 3 columns, id, filename, and age. The field age is the target, to be predicted, numeric age in years of\n",
    "the person. The file contains the filename of the image that corresponds to each row, the images are named 1.jpg, 2.jpg, etc,\n",
    "which corresponds to both the id and the filename fields. There is also a test dataset that we must generate a submission\n",
    "dataframe for. The test data is in the file /kaggle/input/applications-of-deep-learning-wustl-spring-2024/faces-age/test.csv,\n",
    "and has the id and filename columns, but we need to generate a submit dataframe with just id and age(the prediction). Train the neural network, use early stopping and generate the submit dataframe.\n",
    "\"\"\")"
   ]
  }
 ],
 "metadata": {
  "anaconda-cloud": {},
  "colab": {
   "provenance": []
  },
  "kernelspec": {
   "display_name": "Python 3 (ipykernel)",
   "language": "python",
   "name": "python3"
  },
  "language_info": {
   "codemirror_mode": {
    "name": "ipython",
    "version": 3
   },
   "file_extension": ".py",
   "mimetype": "text/x-python",
   "name": "python",
   "nbconvert_exporter": "python",
   "pygments_lexer": "ipython3",
   "version": "3.10.10"
  },
  "varInspector": {
   "cols": {
    "lenName": 16,
    "lenType": 16,
    "lenVar": 40
   },
   "kernels_config": {
    "python": {
     "delete_cmd_postfix": "",
     "delete_cmd_prefix": "del ",
     "library": "var_list.py",
     "varRefreshCmd": "print(var_dic_list())"
    },
    "r": {
     "delete_cmd_postfix": ") ",
     "delete_cmd_prefix": "rm(",
     "library": "var_list.r",
     "varRefreshCmd": "cat(var_dic_list()) "
    }
   },
   "types_to_exclude": [
    "module",
    "function",
    "builtin_function_or_method",
    "instance",
    "_Feature"
   ],
   "window_display": false
  }
 },
 "nbformat": 4,
 "nbformat_minor": 4
}
