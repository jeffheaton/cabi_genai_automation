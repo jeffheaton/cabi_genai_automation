{
 "cells": [
  {
   "cell_type": "markdown",
   "metadata": {},
   "source": [
    "# Introduction to Automation with LangChain, Generative AI, and Python\n",
    "**1.2: Prompting for Code Generation**\n",
    "* Instructor: [Jeff Heaton](https://youtube.com/@HeatonResearch), WUSTL Center for Analytics and Business Insight (CABI), [Washington University in St. Louis](https://olin.wustl.edu/faculty-and-research/research-centers/center-for-analytics-and-business-insight/index.php)\n",
    "* For more information visit the [class website](https://github.com/jeffheaton/cabi_genai_automation)."
   ]
  },
  {
   "cell_type": "markdown",
   "metadata": {
    "id": "pC9A-LaYhsta"
   },
   "source": [
    "## Bedrock for Code Generation\n",
    "\n",
    "LLMs are adept at generating code and can considerably boost programmers' productivity. This technical course requires you to create programs for the assignments. You might wonder if I consider it  \"cheating\" to utilize LLMs to help you write your homework assignments. For this course, I do not consider it cheating to use AI to help you with assignments; I expect such utilization in this course.\n",
    "\n",
    "You can use the same Bedrock LLMs that your Bedrock grants access to for code generation. You also have other options, which may give you access to even greater code generation capabilities, though OpenAI should be sufficient for this class.\n",
    "\n",
    "There are three possible LLM-based code generation tools. All three require additional fees for use.\n",
    "\n",
    "* [GitHub CoPilot](https://github.com/features/copilot)\n",
    "* [ChatGPT](https://chat.openai.com/)\n",
    "* [Amazon CodeWhisperer/Q Developer](https://aws.amazon.com/codewhisperer/)\n",
    "\n",
    "You can use the code below to access OpenAI for code generation."
   ]
  },
  {
   "cell_type": "code",
   "execution_count": 3,
   "metadata": {
    "colab": {
     "background_save": true
    },
    "id": "TMF-rtxgRAea"
   },
   "outputs": [],
   "source": [
    "from langchain_core.messages import HumanMessage, SystemMessage\n",
    "from langchain_core.prompts.chat import (\n",
    "    ChatPromptTemplate,\n",
    "    HumanMessagePromptTemplate,\n",
    "    SystemMessagePromptTemplate,\n",
    ")\n",
    "from IPython.display import display_markdown\n",
    "from langchain_aws import ChatBedrock\n",
    "\n",
    "\n",
    "MODEL = 'meta.llama2-70b-chat-v1'\n",
    "\n",
    "def generate_code(prompt):\n",
    "  messages = [\n",
    "      SystemMessage(\n",
    "          content=\"You are a helpful assistant that writes reliable computer program code.\"\n",
    "      ),\n",
    "      HumanMessage(content=prompt),\n",
    "  ]\n",
    "\n",
    "  # Initialize bedrock, use built in role\n",
    "  llm = ChatBedrock(\n",
    "        model_id=MODEL,\n",
    "        model_kwargs={\"temperature\": 0.1},\n",
    "  )\n",
    "\n",
    "\n",
    "  print(\"Model response:\")\n",
    "  output = llm.invoke(messages)\n",
    "  display_markdown(output.content,raw=True)"
   ]
  },
  {
   "cell_type": "markdown",
   "metadata": {
    "id": "ClPhLkGldhPt"
   },
   "source": [
    "With the above function defined, you can now generate code. The code below generates a Python function to create a Fibonacci sequence."
   ]
  },
  {
   "cell_type": "code",
   "execution_count": 4,
   "metadata": {
    "colab": {
     "background_save": true,
     "base_uri": "https://localhost:8080/",
     "height": 494
    },
    "id": "ydaqwgRiH4D6",
    "outputId": "52243a3a-b06b-44e6-a95e-ca398c9865a1"
   },
   "outputs": [
    {
     "name": "stdout",
     "output_type": "stream",
     "text": [
      "Model response:\n"
     ]
    },
    {
     "data": {
      "text/markdown": [
       "  Sure! Here's a Python function that returns the Fibonacci sequence of a given length:\n",
       "```\n",
       "def fibonacci(l):\n",
       "    a, b = 0, 1\n",
       "    for i in range(l):\n",
       "        a, b = b, a + b\n",
       "    return a\n",
       "```\n",
       "Here's an explanation of how the code works:\n",
       "\n",
       "1. We define two variables, `a` and `b`, and initialize them to 0 and 1, respectively. These variables will be used to store the previous two numbers in the Fibonacci sequence.\n",
       "2. We use a for loop to iterate over a range of numbers from 0 to `l-1`.\n",
       "3. Inside the loop, we use the assignment `a, b = b, a + b` to update the values of `a` and `b`. This is a clever way to compute the next number in the Fibonacci sequence.\n",
       "4. The `a + b` expression computes the sum of the previous two numbers in the sequence, which is the definition of the Fibonacci sequence.\n",
       "5. The `return a` statement at the end of the function returns the final value of `a`, which is the `l`-th Fibonacci number.\n",
       "\n",
       "Here's an example of how you can use the function:\n",
       "```\n",
       "print(fibonacci(5))  # prints 5\n",
       "```\n",
       "This will compute and print the first 5 Fibonacci numbers: 0, 1, 1, 2, 3, 5.\n",
       "\n",
       "I hope this helps! Let me know if you have any questions."
      ]
     },
     "metadata": {},
     "output_type": "display_data"
    }
   ],
   "source": [
    "generate_code(\"\"\"Write Python code to return a fibonacci sequence of a length specified by the parameter l.\"\"\")"
   ]
  },
  {
   "cell_type": "markdown",
   "metadata": {
    "id": "8fzxOCfgeKUF"
   },
   "source": [
    "## Generating Methods"
   ]
  },
  {
   "cell_type": "code",
   "execution_count": 5,
   "metadata": {
    "colab": {
     "base_uri": "https://localhost:8080/",
     "height": 1000
    },
    "id": "priNIsKGgR7M",
    "outputId": "d9e826bf-f195-4a43-d459-765a473b23fc"
   },
   "outputs": [
    {
     "name": "stdout",
     "output_type": "stream",
     "text": [
      "Model response:\n"
     ]
    },
    {
     "data": {
      "text/markdown": [
       "  Sure, here is a Python function named loan_amortization that accepts the parameters you mentioned and returns a Pandas dataframe with the specified columns:\n",
       "\n",
       "```\n",
       "import pandas as pd\n",
       "\n",
       "def loan_amortization(loan_amount, apr, term):\n",
       "    # Create a dictionary of columns\n",
       "    columns = {'month': [], 'amount': [], 'principal': [], 'interest': [], 'payment': []}\n",
       "\n",
       "    # Initialize the first month\n",
       "    current_month = 0\n",
       "    amount = loan_amount\n",
       "    payment = loan_amount / term\n",
       "    interest = apr / 12 * amount\n",
       "    principal = payment - interest\n",
       "    columns['month'].append(current_month)\n",
       "    columns['amount'].append(amount)\n",
       "    columns['principal'].append(principal)\n",
       "    columns['interest'].append(interest)\n",
       "    columns['payment'].append(payment)\n",
       "\n",
       "    # Iterate through the remaining months\n",
       "    for i in range(1, term):\n",
       "        current_month += 1\n",
       "        interest = apr / 12 * amount\n",
       "        principal = payment - interest\n",
       "        amount -= principal\n",
       "        columns['month'].append(current_month)\n",
       "        columns['amount'].append(amount)\n",
       "        columns['principal'].append(principal)\n",
       "        columns['interest'].append(interest)\n",
       "        columns['payment'].append(payment)\n",
       "\n",
       "    # Create the Pandas dataframe\n",
       "    df = pd.DataFrame(columns)\n",
       "\n",
       "    return df\n",
       "```\n",
       "\n",
       "This function first creates a dictionary of columns that will be used to create the Pandas dataframe. It then initializes the first month by calculating the interest and principal payments and adding them to the dictionary.\n",
       "\n",
       "The function then iterates through the remaining months, calculating the interest and principal payments for each month and adding them to the dictionary.\n",
       "\n",
       "Finally, the function creates a Pandas dataframe from the dictionary and returns it.\n",
       "\n",
       "You can call this function by passing in the loan amount, interest rate, and term, like this:\n",
       "\n",
       "```\n",
       "loan_amortization(100000, 0.06, 60)\n",
       "```\n",
       "\n",
       "This will return a Pandas dataframe that shows the loan amortization schedule for a $100,000 loan with a 6% interest rate and"
      ]
     },
     "metadata": {},
     "output_type": "display_data"
    }
   ],
   "source": [
    "generate_code(\"\"\"\n",
    "Write a Python function named loan_amortization that accepts these parameters.\n",
    "loan_amount - The amount of the loan.\n",
    "apr - The interest rate.\n",
    "term - The number of months in the loan.\n",
    "The function should return a Pandas dataframe that contains the following columns:\n",
    "month - The current month.\n",
    "amount - The amount left on the loan.\n",
    "principal - The amount payed to the principal this month.\n",
    "interest - The amount paid in interest this month.\n",
    "payment - The total payment this month.\n",
    "Additionally, build a dictionary of columns to create the Pandas dataframe.\n",
    "\"\"\")"
   ]
  },
  {
   "cell_type": "code",
   "execution_count": null,
   "metadata": {
    "colab": {
     "base_uri": "https://localhost:8080/"
    },
    "id": "dzhI5nTfgeS4",
    "outputId": "3a3c547b-5412-447b-aaec-93283f64e569"
   },
   "outputs": [
    {
     "name": "stdout",
     "output_type": "stream",
     "text": [
      "   month        amount   principal    interest     payment\n",
      "0      1  99879.845044  120.154956  416.666667  536.821623\n",
      "1      2  99759.189442  120.655602  416.166021  536.821623\n",
      "2      3  99638.031108  121.158334  415.663289  536.821623\n",
      "3      4  99516.367948  121.663160  415.158463  536.821623\n",
      "4      5  99394.197858  122.170090  414.651533  536.821623\n"
     ]
    }
   ],
   "source": [
    "import pandas as pd\n",
    "\n",
    "def loan_amortization(loan_amount, apr, term):\n",
    "    # Convert APR to a monthly interest rate\n",
    "    monthly_interest_rate = apr / 12 / 100\n",
    "\n",
    "    # Calculate monthly payment using the formula for an annuity\n",
    "    payment = loan_amount * (monthly_interest_rate * (1 + monthly_interest_rate) ** term) / ((1 + monthly_interest_rate) ** term - 1)\n",
    "\n",
    "    # Initialize variables\n",
    "    remaining_balance = loan_amount\n",
    "    amortization_schedule = []\n",
    "\n",
    "    # Calculate the schedule\n",
    "    for month in range(1, term + 1):\n",
    "        interest = remaining_balance * monthly_interest_rate\n",
    "        principal = payment - interest\n",
    "        remaining_balance -= principal\n",
    "\n",
    "        # Ensure the last payment does not go negative\n",
    "        if remaining_balance < 0:\n",
    "            principal += remaining_balance\n",
    "            payment = principal + interest\n",
    "            remaining_balance = 0\n",
    "\n",
    "        # Append each month's data to the list\n",
    "        amortization_schedule.append({\n",
    "            \"month\": month,\n",
    "            \"amount\": remaining_balance,\n",
    "            \"principal\": principal,\n",
    "            \"interest\": interest,\n",
    "            \"payment\": payment\n",
    "        })\n",
    "\n",
    "        # Break the loop if balance is zero\n",
    "        if remaining_balance <= 0:\n",
    "            break\n",
    "\n",
    "    # Create a DataFrame from the list of dictionaries\n",
    "    df = pd.DataFrame(amortization_schedule)\n",
    "    return df\n",
    "\n",
    "# Example usage:\n",
    "loan_amount = 100000  # $100,000 loan\n",
    "apr = 5  # 5% annual interest rate\n",
    "term = 360  # 30 years, 360 months\n",
    "\n",
    "df = loan_amortization(loan_amount, apr, term)\n",
    "print(df.head())  # Print the first few rows of the DataFrame"
   ]
  },
  {
   "cell_type": "markdown",
   "metadata": {
    "id": "Z_ZKqu8TeQcm"
   },
   "source": [
    "```\n",
    "Write a Python function named loan_amortization that accepts these parameters.\n",
    "loan_amount - The amount of the loan.\n",
    "apr - The interest rate.\n",
    "term - The number of months in the loan.\n",
    "The function should return a Pandas dataframe that contains the following columns:\n",
    "month - The current month.\n",
    "amount - The amount left on the loan.\n",
    "principal - The amount payed to the principal this month.\n",
    "interest - The amount paid in interest this month.\n",
    "payment - The total payment this month.\n",
    "```"
   ]
  },
  {
   "cell_type": "markdown",
   "metadata": {
    "id": "t15LDXS9mCI_"
   },
   "source": [
    "## Generating Larger Programs\n",
    "\n"
   ]
  },
  {
   "cell_type": "code",
   "execution_count": 6,
   "metadata": {
    "colab": {
     "base_uri": "https://localhost:8080/",
     "height": 1000
    },
    "id": "q2ixb46lmI4Y",
    "outputId": "b1f03758-6fcd-4b65-91d2-bdad5fdf295a"
   },
   "outputs": [
    {
     "name": "stdout",
     "output_type": "stream",
     "text": [
      "Model response:\n"
     ]
    },
    {
     "data": {
      "text/markdown": [
       "  Sure! Here's a PyTorch GPU-enabled neural network that predicts the age of people in provided images:\n",
       "\n",
       "```\n",
       "# Import necessary libraries\n",
       "import pandas as pd\n",
       "import numpy as np\n",
       "import torch\n",
       "import torch.nn as nn\n",
       "import torch.optim as optim\n",
       "from torchvision import transforms\n",
       "from torch.utils.data import DataLoader, Dataset\n",
       "\n",
       "# Define the transforms for data augmentation\n",
       "transform = transforms.Compose([\n",
       "    transforms.Resize(256),\n",
       "    transforms.CenterCrop(224),\n",
       "    transforms.ToTensor(),\n",
       "    transforms.Normalize(mean=[0.485, 0.456, 0.406], std=[0.229, 0.224, 0.225])\n",
       "])\n",
       "\n",
       "# Load the training data\n",
       "train_df = pd.read_csv('/kaggle/input/applications-of-deep-learning-wustl-spring-2024/faces-age/train.csv')\n",
       "\n",
       "# Define the dataset class\n",
       "class FaceAgeDataset(Dataset):\n",
       "    def __init__(self, data, transform=transform):\n",
       "        self.data = data\n",
       "        self.transform = transform\n",
       "\n",
       "    def __len__(self):\n",
       "        return len(self.data)\n",
       "\n",
       "    def __getitem__(self, index):\n",
       "        item = {key: torch.tensor(val[index]) for key, val in self.data.iloc[index].items()}\n",
       "        item['image'] = self.transform(item['image'])\n",
       "        return item\n",
       "\n",
       "# Load the training data\n",
       "train_dataset = FaceAgeDataset(train_df)\n",
       "\n",
       "# Define the model\n",
       "class Net(nn.Module):\n",
       "    def __init__(self):\n",
       "        super(Net, self).__init__()\n",
       "        self.conv1 = nn.Conv2d(1, 32, kernel_size=3, padding=1)\n",
       "        self.conv2 = nn.Conv2d(32, 64, kernel_size=3, padding=1)\n",
       "        self.fc1 = nn.Linear(64*4*4, 1"
      ]
     },
     "metadata": {},
     "output_type": "display_data"
    }
   ],
   "source": [
    "generate_code(\"\"\"\n",
    "Create a PyTorch GPU-enabled neural network for a Kaggle competition that asks me to predict the age of people in provided images.\n",
    "The images are stored at this path: /kaggle/input/applications-of-deep-learning-wustl-spring-2024/faces-age.\n",
    "The training data is in the file: /kaggle/input/applications-of-deep-learning-wustl-spring-2024/faces-age/train.csv.\n",
    "The training data has 3 columns, id, filename, and age. The field age is the target, to be predicted, numeric age in years of\n",
    "the person. The file contains the filename of the image that corresponds to each row, the images are named 1.jpg, 2.jpg, etc,\n",
    "which corresponds to both the id and the filename fields. There is also a test dataset that we must generate a submission\n",
    "dataframe for. The test data is in the file /kaggle/input/applications-of-deep-learning-wustl-spring-2024/faces-age/test.csv,\n",
    "and has the id and filename columns, but we need to generate a submit dataframe with just id and age(the prediction). Train the neural network, use early stopping and generate the submit dataframe.\n",
    "\"\"\")"
   ]
  },
  {
   "cell_type": "markdown",
   "metadata": {
    "id": "3TjZs_TRht1n"
   },
   "source": [
    "# Module 2 Assignment\n",
    "\n",
    "You can find the first assignment here: [assignment 2](https://github.com/jeffheaton/app_deep_learning/blob/main/assignments/assignment_yourname_class2.ipynb)"
   ]
  }
 ],
 "metadata": {
  "anaconda-cloud": {},
  "colab": {
   "provenance": []
  },
  "kernelspec": {
   "display_name": "Python 3 (ipykernel)",
   "language": "python",
   "name": "python3"
  },
  "language_info": {
   "codemirror_mode": {
    "name": "ipython",
    "version": 3
   },
   "file_extension": ".py",
   "mimetype": "text/x-python",
   "name": "python",
   "nbconvert_exporter": "python",
   "pygments_lexer": "ipython3",
   "version": "3.10.14"
  },
  "varInspector": {
   "cols": {
    "lenName": 16,
    "lenType": 16,
    "lenVar": 40
   },
   "kernels_config": {
    "python": {
     "delete_cmd_postfix": "",
     "delete_cmd_prefix": "del ",
     "library": "var_list.py",
     "varRefreshCmd": "print(var_dic_list())"
    },
    "r": {
     "delete_cmd_postfix": ") ",
     "delete_cmd_prefix": "rm(",
     "library": "var_list.r",
     "varRefreshCmd": "cat(var_dic_list()) "
    }
   },
   "types_to_exclude": [
    "module",
    "function",
    "builtin_function_or_method",
    "instance",
    "_Feature"
   ],
   "window_display": false
  }
 },
 "nbformat": 4,
 "nbformat_minor": 4
}
