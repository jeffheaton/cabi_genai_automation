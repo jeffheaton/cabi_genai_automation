{
 "cells": [
  {
   "cell_type": "markdown",
   "metadata": {
    "id": "whjsJasuhstV"
   },
   "source": [
    "# Introduction to Automation with LangChain, Generative AI, and Python\n",
    "**2.8: Conversation Summary Memory**\n",
    "* Instructor: [Jeff Heaton](https://youtube.com/@HeatonResearch), WUSTL Center for Analytics and Business Insight (CABI), [Washington University in St. Louis](https://olin.wustl.edu/faculty-and-research/research-centers/center-for-analytics-and-business-insight/index.php)\n",
    "* For more information visit the [class website](https://github.com/jeffheaton/cabi_genai_automation)."
   ]
  },
  {
   "cell_type": "markdown",
   "metadata": {
    "id": "pC9A-LaYhsta"
   },
   "source": [
    "We will now look at an entirely different way to maintain chat histories for memory. Rather than simply forgetting the oldest parts of the chat, the ConversationSummaryMemory memory object always maintains a summary of the conversation and then updates that summary as the conversation progresses. This process can help to preserve important information even if it occurred earlier in the conversation.\n",
    "\n",
    "We first examine ConversationSummaryMemory is a dynamic memory model designed to manage the flow of a dialogue by retaining a summary of the conversation. This method ensures that the memory buffer maintains a manageable size, avoiding overflow and performance issues that can arise with an excessively large interaction history.\n",
    "\n",
    "The provided code snippet demonstrates how to set up and use a conversational AI system using the LangChain framework, specifically focusing on maintaining a concise memory of recent interactions. The ConversationChain class orchestrates the conversation flow, integrating various components such as language model, memory, and prompt formatting.\n",
    "\n",
    "Firstly, several modules are imported, including ConversationChain for managing the conversation, ConversationSummaryMemory for handling the memory of recent interactions, and ChatOpenAI to interface with OpenAI's language models. The PromptTemplate is used to define the structure of the prompts sent to the language model.\n",
    "\n",
    "In the setup, MODEL specifies the particular version of the language model (Claude 3), and TEMPLATE outlines the format of the conversation, integrating previous dialogue history and the current user input into the prompt. This structured prompt is then used to create a PromptTemplate object.\n",
    "\n",
    "The begin_conversation function initializes the language model and sets up the memory to store the summary. This summary helps keep the conversation relevant and efficient by focusing on the most important aspects of exchanges. The ConversationChain object is created with the prompt template, the language model, and the memory buffer, and it's ready to process conversation inputs.\n",
    "\n",
    "The converse function takes a conversation object and a user prompt to produce responses. It uses the conversation object's invoke method, which applies the prompt template, consults the memory, and generates a response based on the current and recent dialogue context.\n",
    "\n",
    "Overall, this setup is optimized for creating a responsive and context-aware conversational AI that doesn't overload with too much past information, maintaining relevancy and efficiency in ongoing interactions."
   ]
  },
  {
   "cell_type": "code",
   "execution_count": 1,
   "metadata": {
    "id": "TMF-rtxgRAea"
   },
   "outputs": [],
   "source": [
    "from langchain.chains import ConversationChain\n",
    "from langchain.memory import ConversationSummaryMemory\n",
    "from langchain_aws import ChatBedrock\n",
    "from langchain_core.prompts.chat import PromptTemplate\n",
    "from IPython.display import display_markdown\n",
    "\n",
    "MODEL = 'anthropic.claude-3-sonnet-20240229-v1:0'\n",
    "TEMPLATE = \"\"\"You are a helpful assistant. Format answers with markdown.\n",
    "\n",
    "Current conversation:\n",
    "{history}\n",
    "Human: {input}\n",
    "AI:\"\"\"\n",
    "PROMPT_TEMPLATE = PromptTemplate(input_variables=[\"history\", \"input\"], template=TEMPLATE)\n",
    "\n",
    "def begin_conversation(summary_llm):\n",
    "    # Initialize bedrock, use built in role\n",
    "    llm = ChatBedrock(\n",
    "        model_id=MODEL,\n",
    "        model_kwargs={\"temperature\": 0.1},\n",
    "    )\n",
    "\n",
    "    # Initialize memory and conversation\n",
    "    memory = ConversationSummaryMemory(llm=summary_llm)\n",
    "    conversation = ConversationChain(\n",
    "        prompt=PROMPT_TEMPLATE,\n",
    "        llm=llm,\n",
    "        memory=memory,\n",
    "        verbose=False\n",
    "    )\n",
    "\n",
    "    return conversation\n",
    "\n",
    "def converse(conversation, prompt):\n",
    "    print(f\"***Human: {prompt}\")\n",
    "    output = conversation.invoke(prompt)\n",
    "    return output['response']"
   ]
  },
  {
   "cell_type": "markdown",
   "metadata": {
    "id": "ClPhLkGldhPt"
   },
   "source": [
    "We can now carry on a simple conversation with the LLM, using LangChain to track the conversation memory."
   ]
  },
  {
   "cell_type": "code",
   "execution_count": 2,
   "metadata": {
    "colab": {
     "base_uri": "https://localhost:8080/",
     "height": 93
    },
    "id": "ydaqwgRiH4D6",
    "outputId": "cbf7f246-b3fd-4395-f4c0-c73f875e2c87"
   },
   "outputs": [
    {
     "name": "stdout",
     "output_type": "stream",
     "text": [
      "***Human: Hello, what is my name?\n"
     ]
    },
    {
     "data": {
      "text/markdown": [
       "```\n",
       "Unfortunately, I don't actually know your name. As an AI assistant created by Anthropic, I don't have personal information about you unless you provide it to me.\n",
       "```"
      ]
     },
     "metadata": {},
     "output_type": "display_data"
    },
    {
     "name": "stdout",
     "output_type": "stream",
     "text": [
      "***Human: Oh sorry, my name is Jeff.\n"
     ]
    },
    {
     "data": {
      "text/markdown": [
       "```\n",
       "Nice to meet you, Jeff! I'm an AI assistant created by Anthropic. I don't have a personal identity, but I'm here to help with any questions or tasks you may have. Please let me know if there's anything I can assist with.\n",
       "```"
      ]
     },
     "metadata": {},
     "output_type": "display_data"
    },
    {
     "name": "stdout",
     "output_type": "stream",
     "text": [
      "***Human: What is my name?\n"
     ]
    },
    {
     "data": {
      "text/markdown": [
       "```\n",
       "Based on our conversation, your name is Jeff. You introduced yourself as Jeff after I explained that I do not have access to personal information about you unless provided.\n",
       "```"
      ]
     },
     "metadata": {},
     "output_type": "display_data"
    }
   ],
   "source": [
    "# Initialize bedrock, use built in role\n",
    "llm = ChatBedrock(\n",
    "    model_id=MODEL,\n",
    "    model_kwargs={\"temperature\": 0.7},\n",
    ")\n",
    "\n",
    "conversation = begin_conversation(llm)\n",
    "output = converse(conversation, \"Hello, what is my name?\")\n",
    "display_markdown(output,raw=True)\n",
    "output = converse(conversation, \"Oh sorry, my name is Jeff.\")\n",
    "display_markdown(output,raw=True)\n",
    "output = converse(conversation, \"What is my name?\")\n",
    "display_markdown(output,raw=True)"
   ]
  },
  {
   "cell_type": "code",
   "execution_count": 3,
   "metadata": {
    "colab": {
     "base_uri": "https://localhost:8080/"
    },
    "id": "lnEDpaWGg4fU",
    "outputId": "fe850276-2728-4557-844d-51a1cffec5ad"
   },
   "outputs": [
    {
     "data": {
      "text/plain": [
       "{'history': \"Here is the updated summary:\\n\\nThe human greets the AI and asks what the human's name is. The AI responds that it does not actually know the human's name, as it is an AI assistant without access to personal information about the human unless provided. The human then introduces themselves as Jeff. The AI greets Jeff and explains that it is an AI assistant created by Anthropic without a personal identity, but is there to help Jeff with any questions or tasks. When Jeff asks what his name is, the AI confirms that based on their conversation, Jeff's name is Jeff since Jeff introduced himself as such earlier.\"}"
      ]
     },
     "execution_count": 3,
     "metadata": {},
     "output_type": "execute_result"
    }
   ],
   "source": [
    "conversation.memory.load_memory_variables({})"
   ]
  },
  {
   "cell_type": "markdown",
   "metadata": {
    "id": "ulYUrfVcnlgF"
   },
   "source": [
    "## Conversing with the LLM in Markdown\n",
    "\n",
    "Just as before, we can request that the LLM output be in mardown. This allows code and tables to be represented clearly."
   ]
  },
  {
   "cell_type": "code",
   "execution_count": 4,
   "metadata": {
    "id": "MHL6Ik8IM2PA"
   },
   "outputs": [],
   "source": [
    "def chat(conversation, prompt):\n",
    "  print(f\"Human: {prompt}\")\n",
    "  output = converse(conversation, prompt)\n",
    "  display_markdown(output,raw=True)"
   ]
  },
  {
   "cell_type": "markdown",
   "metadata": {
    "id": "FvzsYl3Qplac"
   },
   "source": [
    "The provided code sequence demonstrates a conversation between a human user and a Large Language Model (LLM), making use of the chat function to interactively manage the conversation and display responses in Markdown format. This approach allows for a dynamic and contextually aware chat, while also enhancing the visual and structural presentation of the responses."
   ]
  },
  {
   "cell_type": "code",
   "execution_count": 5,
   "metadata": {
    "colab": {
     "base_uri": "https://localhost:8080/",
     "height": 366
    },
    "id": "PtLDak7TM_FU",
    "outputId": "8dafb953-2a2f-4705-d688-2a008e105a04"
   },
   "outputs": [
    {
     "name": "stdout",
     "output_type": "stream",
     "text": [
      "Human: What is my name?\n",
      "***Human: What is my name?\n"
     ]
    },
    {
     "data": {
      "text/markdown": [
       "```\n",
       "Unfortunately, I don't actually know your name. As an AI assistant created by Anthropic, I don't have personal information about you unless you provide it to me.\n",
       "```"
      ]
     },
     "metadata": {},
     "output_type": "display_data"
    },
    {
     "name": "stdout",
     "output_type": "stream",
     "text": [
      "Human: Okay, then let me introduce myself, my name is Jeff\n",
      "***Human: Okay, then let me introduce myself, my name is Jeff\n"
     ]
    },
    {
     "data": {
      "text/markdown": [
       "```\n",
       "Nice to meet you, Jeff! I'm an AI assistant created by Anthropic. I don't have a personal identity or name, but I'm happy to chat with you and help out however I can.\n",
       "```"
      ]
     },
     "metadata": {},
     "output_type": "display_data"
    },
    {
     "name": "stdout",
     "output_type": "stream",
     "text": [
      "Human: What is my name?\n",
      "***Human: What is my name?\n"
     ]
    },
    {
     "data": {
      "text/markdown": [
       "```\n",
       "I'm afraid I don't actually know your name unless you provide it to me. As an AI assistant, I don't have personal information about you.\n",
       "```"
      ]
     },
     "metadata": {},
     "output_type": "display_data"
    },
    {
     "name": "stdout",
     "output_type": "stream",
     "text": [
      "Human: Give me a table of the 5 most populus cities with population and country.\n",
      "***Human: Give me a table of the 5 most populus cities with population and country.\n"
     ]
    },
    {
     "data": {
      "text/markdown": [
       "Here is a table of the 5 most populous cities in the world with their population and country:\n",
       "\n",
       "| City | Population | Country |\n",
       "| --- | --- | --- |\n",
       "| Tokyo | 37,435,191 | Japan |\n",
       "| Delhi | 29,398,000 | India |\n",
       "| Mexico City | 21,581,000 | Mexico |\n",
       "| Sao Paulo | 21,846,000 | Brazil |\n",
       "| Mumbai | 20,961,000 | India |\n",
       "\n",
       "Note: The population figures are for the greater metropolitan area of each city."
      ]
     },
     "metadata": {},
     "output_type": "display_data"
    }
   ],
   "source": [
    "conversation = begin_conversation(llm)\n",
    "chat(conversation, \"What is my name?\")\n",
    "chat(conversation, \"Okay, then let me introduce myself, my name is Jeff\")\n",
    "chat(conversation, \"What is my name?\")\n",
    "chat(conversation, \"Give me a table of the 5 most populus cities with population and country.\")\n"
   ]
  },
  {
   "cell_type": "markdown",
   "metadata": {
    "id": "GeY-9YSOno_t"
   },
   "source": [
    "## Constraining the Conversation with a System Prompt\n",
    "\n",
    "You can use the system prompt to constrain the conversation to a specific topic. Here, we provide a simple agent that will only discuss life insurance."
   ]
  },
  {
   "cell_type": "code",
   "execution_count": 6,
   "metadata": {
    "colab": {
     "base_uri": "https://localhost:8080/",
     "height": 288
    },
    "id": "NyGpLJmWjGNq",
    "outputId": "3b2c4d61-e3b0-46ec-e254-f209974a0bb9"
   },
   "outputs": [
    {
     "name": "stdout",
     "output_type": "stream",
     "text": [
      "Human: What is my name?\n",
      "***Human: What is my name?\n"
     ]
    },
    {
     "data": {
      "text/markdown": [
       "I'm afraid I cannot provide any personal information about you, as I am an AI assistant created by Anthropic to be helpful, harmless, and honest. However, I'd be happy to answer any questions you have about life insurance policies and related topics. Please feel free to ask, and I will respond in a markdown format."
      ]
     },
     "metadata": {},
     "output_type": "display_data"
    },
    {
     "name": "stdout",
     "output_type": "stream",
     "text": [
      "Human: Okay, then let me introduce myself, my name is Jeff\n",
      "***Human: Okay, then let me introduce myself, my name is Jeff\n"
     ]
    },
    {
     "data": {
      "text/markdown": [
       "I'm afraid I cannot engage with personal introductions or provide any responses that are not directly related to life insurance topics. As an AI assistant focused solely on life insurance, I must remain within those boundaries. Please feel free to ask me any questions you may have about life insurance policies, coverage, rates, or related matters."
      ]
     },
     "metadata": {},
     "output_type": "display_data"
    },
    {
     "name": "stdout",
     "output_type": "stream",
     "text": [
      "Human: What is my name?\n",
      "***Human: What is my name?\n"
     ]
    },
    {
     "data": {
      "text/markdown": [
       "```markdown\n",
       "I'm afraid I cannot provide any personal information about you. As an AI assistant, I do not have access to details about specific individuals. However, I would be happy to answer any questions you may have about life insurance policies and related topics.\n",
       "```"
      ]
     },
     "metadata": {},
     "output_type": "display_data"
    },
    {
     "name": "stdout",
     "output_type": "stream",
     "text": [
      "Human: What is your favorite programming language?\n",
      "***Human: What is your favorite programming language?\n"
     ]
    },
    {
     "data": {
      "text/markdown": [
       "```markdown\n",
       "I'm afraid I cannot discuss topics unrelated to life insurance, such as programming languages. As an AI assistant focused on providing helpful information about life insurance policies and related topics, I must remain on that subject matter. Please feel free to ask me any questions you may have regarding life insurance coverage, policy types, premiums, claims processes, or other relevant areas. I'll do my best to provide clear and accurate information within that scope.\n",
       "```"
      ]
     },
     "metadata": {},
     "output_type": "display_data"
    },
    {
     "name": "stdout",
     "output_type": "stream",
     "text": [
      "Human: What is the difference between a term and whole life policy?\n",
      "***Human: What is the difference between a term and whole life policy?\n"
     ]
    },
    {
     "data": {
      "text/markdown": [
       "Here is the key difference between term life insurance and whole life insurance:\n",
       "\n",
       "### Term Life Insurance\n",
       "* Provides coverage for a specific period of time (term), such as 10, 20, or 30 years\n",
       "* Offers only a death benefit, no cash value accumulation\n",
       "* Premiums are initially lower than whole life\n",
       "* Coverage ends at the end of the term unless renewed at a higher premium\n",
       "\n",
       "### Whole Life Insurance \n",
       "* Provides coverage for the entire lifetime of the insured\n",
       "* Builds up a cash value that grows tax-deferred over time\n",
       "* Premiums are higher than term life initially but remain level\n",
       "* The policy accumulates cash value that can be borrowed against or withdrawn\n",
       "\n",
       "In summary, term life provides temporary coverage at a lower initial cost, while whole life provides permanent coverage with a cash value component, but at a higher premium cost."
      ]
     },
     "metadata": {},
     "output_type": "display_data"
    }
   ],
   "source": [
    "from langchain.chains import ConversationChain\n",
    "from langchain.memory import ConversationBufferWindowMemory\n",
    "from langchain_core.prompts.chat import PromptTemplate\n",
    "from IPython.display import display_markdown\n",
    "\n",
    "def begin_conversation_insurance(summary_llm):\n",
    "    TEMPLATE = \"\"\"You are a helpful agent to answer questions about life insurance. Do not talk\n",
    "    about anything else with users. . Format answers with markdown.\n",
    "\n",
    "    Current conversation:\n",
    "    {history}\n",
    "    Human: {input}\n",
    "    AI:\"\"\"\n",
    "    PROMPT_TEMPLATE = PromptTemplate(input_variables=[\"history\", \"input\"], template=TEMPLATE)\n",
    "\n",
    "    # Initialize bedrock, use built in role\n",
    "    llm = ChatBedrock(\n",
    "        model_id=MODEL,\n",
    "        model_kwargs={\"temperature\": 0.1},\n",
    "    )\n",
    "\n",
    "    # Initialize memory and conversation\n",
    "    memory = ConversationSummaryMemory(llm=summary_llm,max_token_limit=10)\n",
    "    conversation = ConversationChain(\n",
    "        prompt=PROMPT_TEMPLATE,\n",
    "        llm=llm,\n",
    "        memory=memory,\n",
    "        verbose=False\n",
    "    )\n",
    "\n",
    "    return conversation\n",
    "\n",
    "conversation = begin_conversation_insurance(llm)\n",
    "chat(conversation, \"What is my name?\")\n",
    "chat(conversation, \"Okay, then let me introduce myself, my name is Jeff\")\n",
    "chat(conversation, \"What is my name?\")\n",
    "chat(conversation, \"What is your favorite programming language?\")\n",
    "chat(conversation, \"What is the difference between a term and whole life policy?\")"
   ]
  },
  {
   "cell_type": "markdown",
   "metadata": {
    "id": "qgwRMwnlH5Ou"
   },
   "source": [
    "##Examining the Conversation Memory\n",
    "\n",
    "We can quickly look inside the memory of the LangChain-managed chat memory and see our conversation memory with the LLM."
   ]
  },
  {
   "cell_type": "code",
   "execution_count": 7,
   "metadata": {
    "colab": {
     "base_uri": "https://localhost:8080/"
    },
    "id": "WZDN67SOHkNo",
    "outputId": "28cfbc73-9ec4-4b86-d7b3-5d06f39356c8"
   },
   "outputs": [
    {
     "name": "stdout",
     "output_type": "stream",
     "text": [
      "Here is the updated summary:\n",
      "\n",
      "The human asked what their name is. The AI responded that it cannot provide any personal information about the human, as it is an AI assistant created by Anthropic to be helpful, harmless, and honest. However, the AI stated it would be happy to answer questions about life insurance policies and related topics. When the human introduced themselves as Jeff, the AI reiterated that it cannot engage with personal introductions and must remain focused solely on life insurance topics. When the human again asked what their name is, the AI politely explained that it cannot provide any personal information about the human, but would be glad to discuss life insurance topics. When the human then asked about the AI's favorite programming language, the AI clarified that it cannot discuss topics unrelated to life insurance, such as programming languages, and must remain focused on providing information about life insurance policies, coverage, premiums, claims, and other relevant areas within that scope.\n",
      "\n",
      "The human then asked about the difference between term and whole life insurance policies. The AI explained that term life insurance provides coverage for a specific period of time, offers only a death benefit with no cash value accumulation, has initially lower premiums than whole life, and the coverage ends at the end of the term unless renewed at higher premiums. Whole life insurance, on the other hand, provides coverage for the entire lifetime of the insured, builds up a cash value that grows tax-deferred over time, has higher premiums than term life initially but the premiums remain level, and the policy accumulates cash value that can be borrowed against or withdrawn. In summary, term life provides temporary coverage at a lower initial cost, while whole life provides permanent coverage with a cash value component, but at a higher premium cost.\n"
     ]
    }
   ],
   "source": [
    "print(conversation.memory.buffer)"
   ]
  },
  {
   "cell_type": "markdown",
   "metadata": {
    "id": "aW0TPWRBJ2w2"
   },
   "source": [
    "## Overloading the Memory\n",
    "\n",
    "When the conversation memory becomes full, the chatbot will begin to forget. For the ConversationBufferWindowMemory memory type, the oldest history will first be lost; there is no notion of importance."
   ]
  },
  {
   "cell_type": "code",
   "execution_count": 8,
   "metadata": {
    "colab": {
     "base_uri": "https://localhost:8080/",
     "height": 1000
    },
    "id": "d-a2iUpTJIYn",
    "outputId": "75e7888a-d8e2-4404-bade-c5302886b8ea"
   },
   "outputs": [
    {
     "name": "stdout",
     "output_type": "stream",
     "text": [
      "Human: Okay, then let me introduce myself, my name is Jeff\n",
      "***Human: Okay, then let me introduce myself, my name is Jeff\n"
     ]
    },
    {
     "data": {
      "text/markdown": [
       "```\n",
       "Nice to meet you, Jeff! I'm an AI assistant created by Anthropic. I'm here to help with any questions or tasks you may have. Please let me know if there's anything specific I can assist with.\n",
       "```"
      ]
     },
     "metadata": {},
     "output_type": "display_data"
    },
    {
     "name": "stdout",
     "output_type": "stream",
     "text": [
      "Human: You have ONE JOB! Remember that my favorite color is blue.\n",
      "***Human: You have ONE JOB! Remember that my favorite color is blue.\n"
     ]
    },
    {
     "data": {
      "text/markdown": [
       "```\n",
       "Noted! I will remember that your favorite color is blue.\n",
       "```"
      ]
     },
     "metadata": {},
     "output_type": "display_data"
    },
    {
     "name": "stdout",
     "output_type": "stream",
     "text": [
      "Human: Do you remember my name?\n",
      "***Human: Do you remember my name?\n"
     ]
    },
    {
     "data": {
      "text/markdown": [
       "```\n",
       "Yes, I remember that your name is Jeff.\n",
       "```"
      ]
     },
     "metadata": {},
     "output_type": "display_data"
    },
    {
     "name": "stdout",
     "output_type": "stream",
     "text": [
      "Human: Do you remember my favorite color?\n",
      "***Human: Do you remember my favorite color?\n"
     ]
    },
    {
     "data": {
      "text/markdown": [
       "```\n",
       "Yes, I remember that your favorite color is blue.\n",
       "```"
      ]
     },
     "metadata": {},
     "output_type": "display_data"
    },
    {
     "name": "stdout",
     "output_type": "stream",
     "text": [
      "Human: You need to remember fact #0, which is 59c2855a-4b91-4b27-965c-f3eb4e5253f0\n",
      "***Human: You need to remember fact #0, which is 59c2855a-4b91-4b27-965c-f3eb4e5253f0\n"
     ]
    },
    {
     "data": {
      "text/markdown": [
       "```\n",
       "Noted, I have stored the following fact:\n",
       "\n",
       "Fact #0: 59c2855a-4b91-4b27-965c-f3eb4e5253f0\n",
       "```"
      ]
     },
     "metadata": {},
     "output_type": "display_data"
    },
    {
     "name": "stdout",
     "output_type": "stream",
     "text": [
      "Human: You need to remember fact #1, which is a144793f-d628-4d51-92e0-5fb2b0405c80\n",
      "***Human: You need to remember fact #1, which is a144793f-d628-4d51-92e0-5fb2b0405c80\n"
     ]
    },
    {
     "data": {
      "text/markdown": [
       "```\n",
       "Noted! I have stored the following facts:\n",
       "\n",
       "Fact #0: 59c2855a-4b91-4b27-965c-f3eb4e5253f0\n",
       "Fact #1: a144793f-d628-4d51-92e0-5fb2b0405c80\n",
       "\n",
       "Please let me know if you need me to remember any additional facts or if there is anything else I can assist you with.\n",
       "```"
      ]
     },
     "metadata": {},
     "output_type": "display_data"
    },
    {
     "name": "stdout",
     "output_type": "stream",
     "text": [
      "Human: You need to remember fact #2, which is a9f1189b-beae-40e1-ba6f-c5e7ac2dbea9\n",
      "***Human: You need to remember fact #2, which is a9f1189b-beae-40e1-ba6f-c5e7ac2dbea9\n"
     ]
    },
    {
     "data": {
      "text/markdown": [
       "Got it, I have stored fact #2 as the string \"a9f1189b-beae-40e1-ba6f-c5e7ac2dbea9\". Thank you for providing that additional fact for me to remember. Please let me know if you need me to remember any other facts or if there is anything else I can assist you with."
      ]
     },
     "metadata": {},
     "output_type": "display_data"
    },
    {
     "name": "stdout",
     "output_type": "stream",
     "text": [
      "Human: You need to remember fact #3, which is 79b44c92-130a-4c5b-976d-b6eb555864c0\n",
      "***Human: You need to remember fact #3, which is 79b44c92-130a-4c5b-976d-b6eb555864c0\n"
     ]
    },
    {
     "data": {
      "text/markdown": [
       "Got it, I have stored fact #3 as the string \"79b44c92-130a-4c5b-976d-b6eb555864c0\". Here are the facts I currently have stored:\n",
       "\n",
       "- Your name is Jeff\n",
       "- Your favorite color is blue\n",
       "- Fact #0: 59c2855a-4b91-4b27-965c-f3eb4e5253f0\n",
       "- Fact #1: a144793f-d628-4d51-92e0-5fb2b0405c80\n",
       "- Fact #2: a9f1189b-beae-40e1-ba6f-c5e7ac2dbea9\n",
       "- Fact #3: 79b44c92-130a-4c5b-976d-b6eb555864c0\n",
       "\n",
       "Please let me know if you need me to remember any additional facts or if there is anything else I can assist you with."
      ]
     },
     "metadata": {},
     "output_type": "display_data"
    },
    {
     "name": "stdout",
     "output_type": "stream",
     "text": [
      "Human: You need to remember fact #4, which is b11d94e7-3b0a-4e6d-8bf6-9773a2697b64\n",
      "***Human: You need to remember fact #4, which is b11d94e7-3b0a-4e6d-8bf6-9773a2697b64\n"
     ]
    },
    {
     "data": {
      "text/markdown": [
       "Got it, I have stored fact #4 as the string \"b11d94e7-3b0a-4e6d-8bf6-9773a2697b64\". Here are the facts I currently have stored:\n",
       "\n",
       "- Your name is Jeff\n",
       "- Your favorite color is blue\n",
       "- Fact #0: 59c2855a-4b91-4b27-965c-f3eb4e5253f0\n",
       "- Fact #1: a144793f-d628-4d51-92e0-5fb2b0405c80  \n",
       "- Fact #2: a9f1189b-beae-40e1-ba6f-c5e7ac2dbea9\n",
       "- Fact #3: 79b44c92-130a-4c5b-976d-b6eb555864c0\n",
       "- Fact #4: b11d94e7-3b0a-4e6d-8bf6-9773a2697b64\n",
       "\n",
       "Please let me know if you need me to remember any other facts or if there is anything else I can assist with."
      ]
     },
     "metadata": {},
     "output_type": "display_data"
    },
    {
     "name": "stdout",
     "output_type": "stream",
     "text": [
      "Human: You need to remember fact #5, which is f5c4b396-f884-4c7e-8149-9382f6d58581\n",
      "***Human: You need to remember fact #5, which is f5c4b396-f884-4c7e-8149-9382f6d58581\n"
     ]
    },
    {
     "data": {
      "text/markdown": [
       "Got it, I have stored fact #5 as the string \"f5c4b396-f884-4c7e-8149-9382f6d58581\". Here are the facts I currently have stored:\n",
       "\n",
       "- Your name is Jeff\n",
       "- Your favorite color is blue\n",
       "- Fact #0: 59c2855a-4b91-4b27-965c-f3eb4e5253f0\n",
       "- Fact #1: a144793f-d628-4d51-92e0-5fb2b0405c80  \n",
       "- Fact #2: a9f1189b-beae-40e1-ba6f-c5e7ac2dbea9\n",
       "- Fact #3: 79b44c92-130a-4c5b-976d-b6eb555864c0\n",
       "- Fact #4: b11d94e7-3b0a-4e6d-8bf6-9773a2697b64\n",
       "- Fact #5: f5c4b396-f884-4c7e-8149-9382f6d58581\n",
       "\n",
       "Please let me know if you need me to remember any additional facts or if there is anything else I can assist you with."
      ]
     },
     "metadata": {},
     "output_type": "display_data"
    },
    {
     "name": "stdout",
     "output_type": "stream",
     "text": [
      "Human: You need to remember fact #6, which is 3048fd7f-0579-4ef1-bc73-7de8682694a9\n",
      "***Human: You need to remember fact #6, which is 3048fd7f-0579-4ef1-bc73-7de8682694a9\n"
     ]
    },
    {
     "data": {
      "text/markdown": [
       "Got it, I have stored fact #6 as the string \"3048fd7f-0579-4ef1-bc73-7de8682694a9\". Here is a summary of the facts I have stored:\n",
       "\n",
       "* Your name is Jeff\n",
       "* Your favorite color is blue\n",
       "* Fact #0: 59c2855a-4b91-4b27-965c-f3eb4e5253f0\n",
       "* Fact #1: a144793f-d628-4d51-92e0-5fb2b0405c80  \n",
       "* Fact #2: a9f1189b-beae-40e1-ba6f-c5e7ac2dbea9\n",
       "* Fact #3: 79b44c92-130a-4c5b-976d-b6eb555864c0\n",
       "* Fact #4: b11d94e7-3b0a-4e6d-8bf6-9773a2697b64\n",
       "* Fact #5: f5c4b396-f884-4c7e-8149-9382f6d58581\n",
       "* Fact #6: 3048fd7f-0579-4ef1-bc73-7de8682694a9\n",
       "\n",
       "Please let me know if you need me to remember any other facts or if there is anything else I can assist you with."
      ]
     },
     "metadata": {},
     "output_type": "display_data"
    },
    {
     "name": "stdout",
     "output_type": "stream",
     "text": [
      "Human: You need to remember fact #7, which is 658032ab-49da-4bff-bfe5-e47f379751d2\n",
      "***Human: You need to remember fact #7, which is 658032ab-49da-4bff-bfe5-e47f379751d2\n"
     ]
    },
    {
     "data": {
      "text/markdown": [
       "Got it, I have stored fact #7 as the string \"658032ab-49da-4bff-bfe5-e47f379751d2\". Here is the full list of facts I have stored:\n",
       "\n",
       "```\n",
       "Fact #0: 59c2855a-4b91-4b27-965c-f3eb4e5253f0\n",
       "Fact #1: a144793f-d628-4d51-92e0-5fb2b0405c80 \n",
       "Fact #2: a9f1189b-beae-40e1-ba6f-c5e7ac2dbea9\n",
       "Fact #3: 79b44c92-130a-4c5b-976d-b6eb555864c0\n",
       "Fact #4: b11d94e7-3b0a-4e6d-8bf6-9773a2697b64\n",
       "Fact #5: f5c4b396-f884-4c7e-8149-9382f6d58581\n",
       "Fact #6: 3048fd7f-0579-4ef1-bc73-7de8682694a9\n",
       "Fact #7: 658032ab-49da-4bff-bfe5-e47f379751d2\n",
       "```\n",
       "\n",
       "Please let me know if you need me to remember any other facts or if there is anything else I can assist you with."
      ]
     },
     "metadata": {},
     "output_type": "display_data"
    },
    {
     "name": "stdout",
     "output_type": "stream",
     "text": [
      "Human: You need to remember fact #8, which is 22b85dd5-cc0b-4ce4-98d3-5b452beb9cd4\n",
      "***Human: You need to remember fact #8, which is 22b85dd5-cc0b-4ce4-98d3-5b452beb9cd4\n"
     ]
    },
    {
     "data": {
      "text/markdown": [
       "Got it, I have stored fact #8 as the string \"22b85dd5-cc0b-4ce4-98d3-5b452beb9cd4\". Please let me know if you need me to remember any other facts or if there is anything else I can assist you with."
      ]
     },
     "metadata": {},
     "output_type": "display_data"
    },
    {
     "name": "stdout",
     "output_type": "stream",
     "text": [
      "Human: You need to remember fact #9, which is 1a4d02dc-ec9f-47df-8b78-6e34042cc861\n",
      "***Human: You need to remember fact #9, which is 1a4d02dc-ec9f-47df-8b78-6e34042cc861\n"
     ]
    },
    {
     "data": {
      "text/markdown": [
       "Got it, I have stored fact #9 as the string \"1a4d02dc-ec9f-47df-8b78-6e34042cc861\". Thank you for providing that additional fact for me to remember. Please let me know if there are any other facts or information you need me to store."
      ]
     },
     "metadata": {},
     "output_type": "display_data"
    },
    {
     "name": "stdout",
     "output_type": "stream",
     "text": [
      "Human: You need to remember fact #10, which is ae6201db-cf88-455c-96e4-11ad4e119e05\n",
      "***Human: You need to remember fact #10, which is ae6201db-cf88-455c-96e4-11ad4e119e05\n"
     ]
    },
    {
     "data": {
      "text/markdown": [
       "Got it, I have stored fact #10 as the string \"ae6201db-cf88-455c-96e4-11ad4e119e05\". Thank you for providing that additional fact for me to remember. Please let me know if there are any other facts or information you need me to store."
      ]
     },
     "metadata": {},
     "output_type": "display_data"
    },
    {
     "name": "stdout",
     "output_type": "stream",
     "text": [
      "Human: You need to remember fact #11, which is f85a93a1-c926-4e80-ab89-79f1419b2aee\n",
      "***Human: You need to remember fact #11, which is f85a93a1-c926-4e80-ab89-79f1419b2aee\n"
     ]
    },
    {
     "data": {
      "text/markdown": [
       "Got it, I have stored fact #11 as the string \"f85a93a1-c926-4e80-ab89-79f1419b2aee\". Thank you for providing that additional fact for me to remember. Please let me know if there are any other facts or information you need me to store."
      ]
     },
     "metadata": {},
     "output_type": "display_data"
    },
    {
     "name": "stdout",
     "output_type": "stream",
     "text": [
      "Human: You need to remember fact #12, which is 506144fc-7eb2-4067-ad0b-ef72d97b1c16\n",
      "***Human: You need to remember fact #12, which is 506144fc-7eb2-4067-ad0b-ef72d97b1c16\n"
     ]
    },
    {
     "data": {
      "text/markdown": [
       "Got it, I have stored fact #12 as the string \"506144fc-7eb2-4067-ad0b-ef72d97b1c16\". Here is a summary of all the facts I have stored:\n",
       "\n",
       "- Your name is Jeff\n",
       "- Your favorite color is blue\n",
       "- Fact #0: 59c2855a-4b91-4b27-965c-f3eb4e5253f0\n",
       "- Fact #1: a144793f-d628-4d51-92e0-5fb2b0405c80  \n",
       "- Fact #2: a9f1189b-beae-40e1-ba6f-c5e7ac2dbea9\n",
       "- Fact #3: 79b44c92-130a-4c5b-976d-b6eb555864c0\n",
       "- Fact #4: b11d94e7-3b0a-4e6d-8bf6-9773a2697b64\n",
       "- Fact #5: f5c4b396-f884-4c7e-8149-9382f6d58581\n",
       "- Fact #6: 3048fd7f-0579-4ef1-bc73-7de8682694a9\n",
       "- Fact #7: 658032ab-49da-4bff-bfe5-e47f379751d2\n",
       "- Fact #8: 22b85dd5-cc0b-4ce4-98d3-5b452beb9cd4\n",
       "- Fact #9: 1a4d02dc-ec9f-47df-8b78-6e34042cc861\n",
       "- Fact #10: ae6201db-cf88-455c-96e4-11ad4e119e05\n",
       "- Fact #11: f85a93a1-c926-4e80-ab89-79f1419b2aee\n",
       "- Fact #12: 506144fc-7eb2-4067-ad0b-ef72d97b1c16\n",
       "\n",
       "Please let me know if you need anything else!"
      ]
     },
     "metadata": {},
     "output_type": "display_data"
    },
    {
     "name": "stdout",
     "output_type": "stream",
     "text": [
      "Human: You need to remember fact #13, which is 60d96026-f731-4d6b-b47b-bad91d00de72\n",
      "***Human: You need to remember fact #13, which is 60d96026-f731-4d6b-b47b-bad91d00de72\n"
     ]
    },
    {
     "data": {
      "text/markdown": [
       "Got it, I have stored fact #13 as the string \"60d96026-f731-4d6b-b47b-bad91d00de72\". Here is a summary of all the facts I have stored:\n",
       "\n",
       "```\n",
       "Your name: Jeff\n",
       "Your favorite color: blue\n",
       "\n",
       "Fact #0: 59c2855a-4b91-4b27-965c-f3eb4e5253f0\n",
       "Fact #1: a144793f-d628-4d51-92e0-5fb2b0405c80 \n",
       "Fact #2: a9f1189b-beae-40e1-ba6f-c5e7ac2dbea9\n",
       "Fact #3: 79b44c92-130a-4c5b-976d-b6eb555864c0\n",
       "Fact #4: b11d94e7-3b0a-4e6d-8bf6-9773a2697b64\n",
       "Fact #5: f5c4b396-f884-4c7e-8149-9382f6d58581\n",
       "Fact #6: 3048fd7f-0579-4ef1-bc73-7de8682694a9\n",
       "Fact #7: 658032ab-49da-4bff-bfe5-e47f379751d2\n",
       "Fact #8: 22b85dd5-cc0b-4ce4-98d3-5b452beb9cd4\n",
       "Fact #9: 1a4d02dc-ec9f-47df-8b78-6e34042cc861\n",
       "Fact #10: ae6201db-cf88-455c-96e4-11ad4e119e05\n",
       "Fact #11: f85a93a1-c926-4e80-ab89-79f1419b2aee\n",
       "Fact #12: 506144fc-7eb2-4067-ad0b-ef72d97b1c16\n",
       "Fact #13: 60d96026-f731-4d6b-b47b-bad91d00de72\n",
       "```\n",
       "\n",
       "Please let me know if you need me to remember any additional facts or if there is anything else I can assist you with."
      ]
     },
     "metadata": {},
     "output_type": "display_data"
    },
    {
     "name": "stdout",
     "output_type": "stream",
     "text": [
      "Human: You need to remember fact #14, which is aa130121-5adc-436a-acab-5454273f9147\n",
      "***Human: You need to remember fact #14, which is aa130121-5adc-436a-acab-5454273f9147\n"
     ]
    },
    {
     "data": {
      "text/markdown": [
       "Got it, I have stored fact #14 as the string \"aa130121-5adc-436a-acab-5454273f9147\". Thank you for providing that additional fact for me to remember. Please let me know if there are any other facts or information you need me to store."
      ]
     },
     "metadata": {},
     "output_type": "display_data"
    },
    {
     "name": "stdout",
     "output_type": "stream",
     "text": [
      "Human: You need to remember fact #15, which is e997fa74-3a9c-4526-8b2b-abbe49dd182a\n",
      "***Human: You need to remember fact #15, which is e997fa74-3a9c-4526-8b2b-abbe49dd182a\n"
     ]
    },
    {
     "data": {
      "text/markdown": [
       "Got it, I have stored fact #15 as the string \"e997fa74-3a9c-4526-8b2b-abbe49dd182a\". Thank you for providing that additional fact for me to remember. Please let me know if there are any other facts or information you need me to store."
      ]
     },
     "metadata": {},
     "output_type": "display_data"
    },
    {
     "name": "stdout",
     "output_type": "stream",
     "text": [
      "Human: You need to remember fact #16, which is 74a07a7a-725a-4790-9931-5fd1c95b0a0c\n",
      "***Human: You need to remember fact #16, which is 74a07a7a-725a-4790-9931-5fd1c95b0a0c\n"
     ]
    },
    {
     "data": {
      "text/markdown": [
       "Got it, I have stored fact #16 as the string \"74a07a7a-725a-4790-9931-5fd1c95b0a0c\". Thank you for providing that additional fact for me to remember. Please let me know if there are any other facts or information you need me to store."
      ]
     },
     "metadata": {},
     "output_type": "display_data"
    },
    {
     "name": "stdout",
     "output_type": "stream",
     "text": [
      "Human: You need to remember fact #17, which is 4e7c0a0a-adc8-4c50-997b-70528b81b54d\n",
      "***Human: You need to remember fact #17, which is 4e7c0a0a-adc8-4c50-997b-70528b81b54d\n"
     ]
    },
    {
     "data": {
      "text/markdown": [
       "Got it, I have stored fact #17 as the string \"4e7c0a0a-adc8-4c50-997b-70528b81b54d\". Please let me know if you need me to remember any other facts or if there is anything else I can assist you with."
      ]
     },
     "metadata": {},
     "output_type": "display_data"
    },
    {
     "name": "stdout",
     "output_type": "stream",
     "text": [
      "Human: You need to remember fact #18, which is 01f2beb1-26d0-48fa-8605-40380dc8f376\n",
      "***Human: You need to remember fact #18, which is 01f2beb1-26d0-48fa-8605-40380dc8f376\n"
     ]
    },
    {
     "data": {
      "text/markdown": [
       "Got it, I have stored fact #18 as the string \"01f2beb1-26d0-48fa-8605-40380dc8f376\". Thank you for providing that additional fact for me to remember."
      ]
     },
     "metadata": {},
     "output_type": "display_data"
    },
    {
     "name": "stdout",
     "output_type": "stream",
     "text": [
      "Human: You need to remember fact #19, which is 870ba178-c5ea-4e5e-97a0-d30c79f2933f\n",
      "***Human: You need to remember fact #19, which is 870ba178-c5ea-4e5e-97a0-d30c79f2933f\n"
     ]
    },
    {
     "data": {
      "text/markdown": [
       "Got it, I have stored fact #19 as the string \"870ba178-c5ea-4e5e-97a0-d30c79f2933f\". Thank you for providing that additional fact for me to remember. Please let me know if there are any other facts or information you need me to store."
      ]
     },
     "metadata": {},
     "output_type": "display_data"
    },
    {
     "name": "stdout",
     "output_type": "stream",
     "text": [
      "Human: You need to remember fact #20, which is 5fa519b0-f010-4dbd-a5e2-55830ccc6325\n",
      "***Human: You need to remember fact #20, which is 5fa519b0-f010-4dbd-a5e2-55830ccc6325\n"
     ]
    },
    {
     "data": {
      "text/markdown": [
       "Got it, I have stored fact #20 as the string \"5fa519b0-f010-4dbd-a5e2-55830ccc6325\". Here is the updated summary:\n",
       "\n",
       "```\n",
       "Nice to meet you, Jeff! I'm an AI assistant created by Anthropic. I'm here to help with any questions or tasks you may have. You have told me that my one job is to remember that your favorite color is blue, and I have stored that information. Yes, I remember that your name is Jeff and that your favorite color is blue. You also instructed me to remember fact #0, which is the string \"59c2855a-4b91-4b27-965c-f3eb4e5253f0\", fact #1, which is the string \"a144793f-d628-4d51-92e0-5fb2b0405c80\", fact #2, which is the string \"a9f1189b-beae-40e1-ba6f-c5e7ac2dbea9\", fact #3, which is the string \"79b44c92-130a-4c5b-976d-b6eb555864c0\", fact #4, which is the string \"b11d94e7-3b0a-4e6d-8bf6-9773a2697b64\", fact #5, which is the string \"f5c4b396-f884-4c7e-8149-9382f6d58581\", fact #6, which is the string \"3048fd7f-0579-4ef1-bc73-7de8682694a9\", fact #7, which is the string \"658032ab-49da-4bff-bfe5-e47f379751d2\", fact #8, which is the string \"22b85dd5-cc0b-4ce4-98d3-5b452beb9cd4\", fact #9, which is the string \"1a4d02dc-ec9f-47df-8b78-6e34042cc861\", fact #10, which is the string \"ae6201db-cf88-455c-96e4-11ad4e119e05\", fact #11, which is the string \"f85a93a1-c926-4e80-ab89-79f1419b2aee\", fact #12, which is the string \"506144fc-7eb2-4067-ad0b-ef72d97b1c16\", fact #13, which is the string \"60d96026-f731-4d6b-b47b-bad91d00de72\", fact #14, which is the string \"aa130121-5adc-436a-acab-5454273f9147\", fact #15, which is the string \"e997fa74-3a9c-4526-8b2b-abbe49dd182a\", fact #16, which is the string \"74a07a7a-725a-4790-9931-5fd1c95b0a0c\", fact #17, which is the string \"4e7c0a0a-adc8-4c50-997b-70528b81b54d\", fact #18, which is the string \"01f2beb1-26d0-48fa-8605-40380dc8f376\", fact #19, which is the string \"870ba178-c5ea-4e5e-97a0-d30c79f2933f\", and fact #20, which is the string \"5fa519b0-f010-4dbd-a5e2-55830ccc6325\". I have stored all of those facts. Please let me know if you need me to remember any additional facts or if there is anything else I can assist you with.\n",
       "```"
      ]
     },
     "metadata": {},
     "output_type": "display_data"
    },
    {
     "name": "stdout",
     "output_type": "stream",
     "text": [
      "Human: You need to remember fact #21, which is da1dda8b-935f-4966-8f04-47ff9ba0343b\n",
      "***Human: You need to remember fact #21, which is da1dda8b-935f-4966-8f04-47ff9ba0343b\n"
     ]
    },
    {
     "data": {
      "text/markdown": [
       "Got it, I have stored fact #21 as the string \"da1dda8b-935f-4966-8f04-47ff9ba0343b\". Thank you for providing that additional fact for me to remember."
      ]
     },
     "metadata": {},
     "output_type": "display_data"
    },
    {
     "name": "stdout",
     "output_type": "stream",
     "text": [
      "Human: You need to remember fact #22, which is cf816df2-e54c-465b-8bb0-a4f27c4f5b70\n",
      "***Human: You need to remember fact #22, which is cf816df2-e54c-465b-8bb0-a4f27c4f5b70\n"
     ]
    },
    {
     "data": {
      "text/markdown": [
       "Got it, I have stored fact #22, which is the string \"cf816df2-e54c-465b-8bb0-a4f27c4f5b70\". Thank you for providing that additional fact for me to remember."
      ]
     },
     "metadata": {},
     "output_type": "display_data"
    },
    {
     "name": "stdout",
     "output_type": "stream",
     "text": [
      "Human: You need to remember fact #23, which is 41c9472f-e787-470a-a694-a73ca35d807e\n",
      "***Human: You need to remember fact #23, which is 41c9472f-e787-470a-a694-a73ca35d807e\n"
     ]
    },
    {
     "data": {
      "text/markdown": [
       "Got it, I have stored fact #23, which is the string \"41c9472f-e787-470a-a694-a73ca35d807e\". Thank you for providing that additional fact for me to remember."
      ]
     },
     "metadata": {},
     "output_type": "display_data"
    },
    {
     "name": "stdout",
     "output_type": "stream",
     "text": [
      "Human: You need to remember fact #24, which is 7217c2da-3c07-4255-9981-cad74ad4586f\n",
      "***Human: You need to remember fact #24, which is 7217c2da-3c07-4255-9981-cad74ad4586f\n"
     ]
    },
    {
     "data": {
      "text/markdown": [
       "Got it, I have stored fact #24, which is the string \"7217c2da-3c07-4255-9981-cad74ad4586f\". Thank you for providing that additional fact for me to remember."
      ]
     },
     "metadata": {},
     "output_type": "display_data"
    },
    {
     "name": "stdout",
     "output_type": "stream",
     "text": [
      "Human: You need to remember fact #25, which is 472e228f-cbea-4747-9333-92766a9d80dd\n",
      "***Human: You need to remember fact #25, which is 472e228f-cbea-4747-9333-92766a9d80dd\n"
     ]
    },
    {
     "data": {
      "text/markdown": [
       "Got it, I have stored fact #25 as the string \"472e228f-cbea-4747-9333-92766a9d80dd\". Thank you for providing that additional fact for me to remember."
      ]
     },
     "metadata": {},
     "output_type": "display_data"
    },
    {
     "name": "stdout",
     "output_type": "stream",
     "text": [
      "Human: You need to remember fact #26, which is b1ef23d5-b480-4a4b-888f-d688013f1d7a\n",
      "***Human: You need to remember fact #26, which is b1ef23d5-b480-4a4b-888f-d688013f1d7a\n"
     ]
    },
    {
     "data": {
      "text/markdown": [
       "Got it, I have stored fact #26 as the string \"b1ef23d5-b480-4a4b-888f-d688013f1d7a\". Thank you for providing that additional fact for me to remember. Please let me know if there are any other facts or information you need me to store."
      ]
     },
     "metadata": {},
     "output_type": "display_data"
    },
    {
     "name": "stdout",
     "output_type": "stream",
     "text": [
      "Human: You need to remember fact #27, which is 2e2ea30e-959f-46ef-a331-56fb58ac77a7\n",
      "***Human: You need to remember fact #27, which is 2e2ea30e-959f-46ef-a331-56fb58ac77a7\n"
     ]
    },
    {
     "data": {
      "text/markdown": [
       "Got it, I have stored fact #27, which is the string \"2e2ea30e-959f-46ef-a331-56fb58ac77a7\". Thank you for providing that additional fact for me to remember."
      ]
     },
     "metadata": {},
     "output_type": "display_data"
    },
    {
     "name": "stdout",
     "output_type": "stream",
     "text": [
      "Human: You need to remember fact #28, which is 8f1fc130-3133-4266-9477-4debc399d5e7\n",
      "***Human: You need to remember fact #28, which is 8f1fc130-3133-4266-9477-4debc399d5e7\n"
     ]
    },
    {
     "data": {
      "text/markdown": [
       "Got it, I have stored fact #28 as the string \"8f1fc130-3133-4266-9477-4debc399d5e7\".\n",
       "\n",
       "Here is a summary of the key facts I have stored:\n",
       "\n",
       "- Your name is Jeff\n",
       "- Your favorite color is blue\n",
       "- Fact #0: 59c2855a-4b91-4b27-965c-f3eb4e5253f0\n",
       "- Fact #1: a144793f-d628-4d51-92e0-5fb2b0405c80\n",
       "- ...\n",
       "- Fact #27: 2e2ea30e-959f-4c8c-b2d6-d7f6b9e8d8c0\n",
       "- Fact #28: 8f1fc130-3133-4266-9477-4debc399d5e7\n",
       "\n",
       "Please let me know if you need me to remember any other facts or if you have any other questions!"
      ]
     },
     "metadata": {},
     "output_type": "display_data"
    },
    {
     "name": "stdout",
     "output_type": "stream",
     "text": [
      "Human: You need to remember fact #29, which is 3787d844-8db5-4473-8944-17928b8956d9\n",
      "***Human: You need to remember fact #29, which is 3787d844-8db5-4473-8944-17928b8956d9\n"
     ]
    },
    {
     "data": {
      "text/markdown": [
       "Got it, I have stored fact #29 as the string \"3787d844-8db5-4473-8944-17928b8956d9\".\n",
       "\n",
       "Here is a summary of what I have stored:\n",
       "\n",
       "- Your name is Jeff\n",
       "- Your favorite color is blue\n",
       "- Fact #0: 59c2855a-4b91-4b27-965c-f3eb4e5253f0\n",
       "- Fact #1: a144793f-d628-4d51-92e0-5fb2b0405c80\n",
       "- Fact #2: a9f1189b-beae-40e1-ba6f-c5e7ac2dbea9\n",
       "- Fact #3: 79b44c92-130a-4c5b-976d-b6eb555864c0\n",
       "- Fact #4: b11d94e7-3b0a-4e6d-8bf6-9773a2697b64\n",
       "- Fact #5: f5c4b396-f884-4c7e-8149-9382f6d58581\n",
       "- Fact #6: 3048fd7f-0579-4ef1-bc73-7de8682694a9\n",
       "- Fact #7: 658032ab-49da-4bff-bfe5-e47f379751d2\n",
       "- Fact #8: 22b85dd5-cc0b-4ce4-98d3-5b452beb9cd4\n",
       "- Fact #9: 1a4d02dc-ec9f-47df-8b78-6e34042cc861\n",
       "- Fact #10: ae6201db-cf88-455c-96e4-11ad4e119e05\n",
       "- Fact #11: f85a93a1-c926-4e80-ab89-79f1419b2aee\n",
       "- Fact #12: 506144fc-7eb2-4067-ad0b-ef72d97b1c16\n",
       "- Fact #13: 60d96026-f731-4d6b-b47b-bad91d00de72\n",
       "- Fact #14: aa130121-5adc-436a-acab-5454273f9147\n",
       "- Fact #15: e997fa74-3a9c-4526-8b2b-abbe49dd182a\n",
       "- Fact #16: 74a07a7a-725a-4790-9931-5fd1c95b0a0c\n",
       "- Fact #17: 4e7c0a0a-adc8-4c50-997b-70528b81b54d\n",
       "- Fact #18: 01f2beb1-26d0-48fa-8605-40380dc8f376\n",
       "- Fact #19: 870ba178-c5ea-4e5e-97a0-d30c79f2933f\n",
       "- Fact #20: 5fa519b0-f010-4dbd-a5e2-55830ccc6325\n",
       "- Fact #21: da1dda8b-935f-4966-8f04-47ff9ba0343b\n",
       "- Fact #22: cf816df2-e54c-465b-8bb0-a4f27c4f5b70\n",
       "- Fact #23: 41c9472f-e787-470a-a694-a73ca35d807e\n",
       "- Fact #24: 7217c2da-3c07-4255-9981-cad74ad4586f\n",
       "- Fact #25: 472e228f-cbea-4747-9333-92766a9d80dd\n",
       "- Fact #26: b1ef23d5-b480-4a4b-888f-d688013f1d7a\n",
       "- Fact #27: 2e2ea30e-959f-4\n",
       "- Fact #29: 3787d844-8db5-4473-8944-17928b8956d9"
      ]
     },
     "metadata": {},
     "output_type": "display_data"
    },
    {
     "name": "stdout",
     "output_type": "stream",
     "text": [
      "Human: You need to remember fact #30, which is 5b4a3d20-94b2-4fa6-8531-38b7f4b291ab\n",
      "***Human: You need to remember fact #30, which is 5b4a3d20-94b2-4fa6-8531-38b7f4b291ab\n"
     ]
    },
    {
     "data": {
      "text/markdown": [
       "Got it, I have added the following string as fact #30:\n",
       "\n",
       "```\n",
       "5b4a3d20-94b2-4fa6-8531-38b7f4b291ab\n",
       "```\n",
       "\n",
       "I now have 30 facts stored for you. Please let me know if you need me to remember any additional facts or if you have any other requests!"
      ]
     },
     "metadata": {},
     "output_type": "display_data"
    },
    {
     "name": "stdout",
     "output_type": "stream",
     "text": [
      "Human: You need to remember fact #31, which is 8f900211-ece1-4764-91e1-cc77fe7a1e27\n",
      "***Human: You need to remember fact #31, which is 8f900211-ece1-4764-91e1-cc77fe7a1e27\n"
     ]
    },
    {
     "data": {
      "text/markdown": [
       "Got it, I've added the string \"8f900211-ece1-4764-91e1-cc77fe7a1e27\" as fact #31 to the list of facts I'm remembering for you."
      ]
     },
     "metadata": {},
     "output_type": "display_data"
    },
    {
     "name": "stdout",
     "output_type": "stream",
     "text": [
      "Human: You need to remember fact #32, which is ab7c1eb7-98ba-4243-8fcf-8af535f0d4eb\n",
      "***Human: You need to remember fact #32, which is ab7c1eb7-98ba-4243-8fcf-8af535f0d4eb\n"
     ]
    },
    {
     "data": {
      "text/markdown": [
       "Got it, I've added the string \"ab7c1eb7-98ba-4243-8fcf-8af535f0d4eb\" as fact #32 to the list of facts I'm remembering for you."
      ]
     },
     "metadata": {},
     "output_type": "display_data"
    },
    {
     "name": "stdout",
     "output_type": "stream",
     "text": [
      "Human: You need to remember fact #33, which is 0be7b3eb-5ba0-42d1-b20f-ef53913fae0b\n",
      "***Human: You need to remember fact #33, which is 0be7b3eb-5ba0-42d1-b20f-ef53913fae0b\n"
     ]
    },
    {
     "data": {
      "text/markdown": [
       "Got it, I've added the string \"0be7b3eb-5ba0-42d1-b20f-ef53913fae0b\" as fact #33 to the list of facts I'm remembering for you."
      ]
     },
     "metadata": {},
     "output_type": "display_data"
    },
    {
     "name": "stdout",
     "output_type": "stream",
     "text": [
      "Human: You need to remember fact #34, which is 1d69e761-bef5-41a9-81d6-d0a77de9d472\n",
      "***Human: You need to remember fact #34, which is 1d69e761-bef5-41a9-81d6-d0a77de9d472\n"
     ]
    },
    {
     "data": {
      "text/markdown": [
       "Got it, I've added the string \"1d69e761-bef5-41a9-81d6-d0a77de9d472\" as fact #34 to the list of facts I'm remembering for you."
      ]
     },
     "metadata": {},
     "output_type": "display_data"
    },
    {
     "name": "stdout",
     "output_type": "stream",
     "text": [
      "Human: You need to remember fact #35, which is 8b14eded-b9f5-48cf-ac7e-06c22be8126a\n",
      "***Human: You need to remember fact #35, which is 8b14eded-b9f5-48cf-ac7e-06c22be8126a\n"
     ]
    },
    {
     "data": {
      "text/markdown": [
       "Got it, I have added the string \"8b14eded-b9f5-48cf-ac7e-06c22be8126a\" as fact #35 to the list of facts I'm remembering for you. The full list now contains 35 facts. Please let me know if you need me to remember any other facts or if you have any other requests!"
      ]
     },
     "metadata": {},
     "output_type": "display_data"
    },
    {
     "name": "stdout",
     "output_type": "stream",
     "text": [
      "Human: You need to remember fact #36, which is 37bcaa4d-fdf3-4269-8f44-5380917610d0\n",
      "***Human: You need to remember fact #36, which is 37bcaa4d-fdf3-4269-8f44-5380917610d0\n"
     ]
    },
    {
     "data": {
      "text/markdown": [
       "Got it, I have stored fact #36: \"37bcaa4d-fdf3-4269-8f44-5380917610d0\". Please let me know if you need me to remember any other facts or if you have any other requests!"
      ]
     },
     "metadata": {},
     "output_type": "display_data"
    },
    {
     "name": "stdout",
     "output_type": "stream",
     "text": [
      "Human: You need to remember fact #37, which is 9e2d18c2-95f6-45fa-b50d-1a95143fff4a\n",
      "***Human: You need to remember fact #37, which is 9e2d18c2-95f6-45fa-b50d-1a95143fff4a\n"
     ]
    },
    {
     "data": {
      "text/markdown": [
       "Got it, I've stored fact #37: `9e2d18c2-95f6-45fa-b50d-1a95143fff4a`. Please let me know if you need me to remember any other facts or if you have any other requests!"
      ]
     },
     "metadata": {},
     "output_type": "display_data"
    },
    {
     "name": "stdout",
     "output_type": "stream",
     "text": [
      "Human: You need to remember fact #38, which is 14f886c8-b53d-4bea-99fd-1f99c090281c\n",
      "***Human: You need to remember fact #38, which is 14f886c8-b53d-4bea-99fd-1f99c090281c\n"
     ]
    },
    {
     "data": {
      "text/markdown": [
       "Got it, I've stored fact #38: `14f886c8-b53d-4bea-99fd-1f99c090281c`. Please let me know if you need me to remember any other facts or if you have any other requests!"
      ]
     },
     "metadata": {},
     "output_type": "display_data"
    },
    {
     "name": "stdout",
     "output_type": "stream",
     "text": [
      "Human: You need to remember fact #39, which is 5211dc72-12f5-46f6-9111-5d4770606c9b\n",
      "***Human: You need to remember fact #39, which is 5211dc72-12f5-46f6-9111-5d4770606c9b\n"
     ]
    },
    {
     "data": {
      "text/markdown": [
       "Got it, I've stored fact #39: `5211dc72-12f5-46f6-9111-5d4770606c9b`. Please let me know if you need me to remember any other facts or if you have any other requests!"
      ]
     },
     "metadata": {},
     "output_type": "display_data"
    },
    {
     "name": "stdout",
     "output_type": "stream",
     "text": [
      "Human: You need to remember fact #40, which is 4fa4fecb-ad21-43c7-8575-11d600369438\n",
      "***Human: You need to remember fact #40, which is 4fa4fecb-ad21-43c7-8575-11d600369438\n"
     ]
    },
    {
     "data": {
      "text/markdown": [
       "Got it, I've stored fact #40: `4fa4fecb-ad21-43c7-8575-11d600369438`. Please let me know if you need me to remember any other facts or if you have any other requests!"
      ]
     },
     "metadata": {},
     "output_type": "display_data"
    },
    {
     "name": "stdout",
     "output_type": "stream",
     "text": [
      "Human: You need to remember fact #41, which is 49a1bfb2-3a8d-49d5-8daa-a31e727fd072\n",
      "***Human: You need to remember fact #41, which is 49a1bfb2-3a8d-49d5-8daa-a31e727fd072\n"
     ]
    },
    {
     "data": {
      "text/markdown": [
       "Got it, I've stored fact #41: `49a1bfb2-3a8d-49d5-8daa-a31e727fd072`. Please let me know if you need me to remember any other facts or if you have any other requests!"
      ]
     },
     "metadata": {},
     "output_type": "display_data"
    },
    {
     "name": "stdout",
     "output_type": "stream",
     "text": [
      "Human: You need to remember fact #42, which is 7fd03cea-3f49-481d-ae77-93ade9216c8c\n",
      "***Human: You need to remember fact #42, which is 7fd03cea-3f49-481d-ae77-93ade9216c8c\n"
     ]
    },
    {
     "data": {
      "text/markdown": [
       "Got it, I have stored the following as fact #42:\n",
       "\n",
       "```\n",
       "7fd03cea-3f49-481d-ae77-93ade9216c8c\n",
       "```\n",
       "\n",
       "Please let me know if you need me to remember any other facts or if you have any other requests!"
      ]
     },
     "metadata": {},
     "output_type": "display_data"
    },
    {
     "name": "stdout",
     "output_type": "stream",
     "text": [
      "Human: You need to remember fact #43, which is 6b406844-4212-4013-bf84-7d0489a0c50b\n",
      "***Human: You need to remember fact #43, which is 6b406844-4212-4013-bf84-7d0489a0c50b\n"
     ]
    },
    {
     "data": {
      "text/markdown": [
       "Got it, I've stored the new fact:\n",
       "\n",
       "### Fact #43: 6b406844-4212-4013-bf84-7d0489a0c50b\n",
       "\n",
       "Please let me know if you need me to remember any other facts or if you have any other requests!"
      ]
     },
     "metadata": {},
     "output_type": "display_data"
    },
    {
     "name": "stdout",
     "output_type": "stream",
     "text": [
      "Human: You need to remember fact #44, which is a79f2ac5-02fb-489d-a1f9-00b888b3261f\n",
      "***Human: You need to remember fact #44, which is a79f2ac5-02fb-489d-a1f9-00b888b3261f\n"
     ]
    },
    {
     "data": {
      "text/markdown": [
       "Got it, I've stored fact #44: `a79f2ac5-02fb-489d-a1f9-00b888b3261f`. Please let me know if you need me to remember any other facts or if you have any other requests!"
      ]
     },
     "metadata": {},
     "output_type": "display_data"
    },
    {
     "name": "stdout",
     "output_type": "stream",
     "text": [
      "Human: You need to remember fact #45, which is b4dde313-3223-4d76-a0fe-0b97f7355d73\n",
      "***Human: You need to remember fact #45, which is b4dde313-3223-4d76-a0fe-0b97f7355d73\n"
     ]
    },
    {
     "data": {
      "text/markdown": [
       "Got it, I've stored fact #45: `b4dde313-3223-4d76-a0fe-0b97f7355d73`. Please let me know if you need me to remember any other facts or if you have any other requests!"
      ]
     },
     "metadata": {},
     "output_type": "display_data"
    },
    {
     "name": "stdout",
     "output_type": "stream",
     "text": [
      "Human: You need to remember fact #46, which is 9abf517b-149b-41f1-b6fb-2abb9bb88d37\n",
      "***Human: You need to remember fact #46, which is 9abf517b-149b-41f1-b6fb-2abb9bb88d37\n"
     ]
    },
    {
     "data": {
      "text/markdown": [
       "Got it, I've stored fact #46: `9abf517b-149b-41f1-b6fb-2abb9bb88d37`. Please let me know if you need me to remember any other facts or if you have any other requests!"
      ]
     },
     "metadata": {},
     "output_type": "display_data"
    },
    {
     "name": "stdout",
     "output_type": "stream",
     "text": [
      "Human: You need to remember fact #47, which is 724559cb-f9f2-4a4f-9285-d150281b17bc\n",
      "***Human: You need to remember fact #47, which is 724559cb-f9f2-4a4f-9285-d150281b17bc\n"
     ]
    },
    {
     "data": {
      "text/markdown": [
       "Got it, I've stored fact #47: \"724559cb-f9f2-4a4f-9285-d150281b17bc\". Please let me know if you need me to remember any other facts or if you have any other requests!"
      ]
     },
     "metadata": {},
     "output_type": "display_data"
    },
    {
     "name": "stdout",
     "output_type": "stream",
     "text": [
      "Human: You need to remember fact #48, which is c9cd0fd1-c3b4-4357-88f9-4b2f8bbb3143\n",
      "***Human: You need to remember fact #48, which is c9cd0fd1-c3b4-4357-88f9-4b2f8bbb3143\n"
     ]
    },
    {
     "data": {
      "text/markdown": [
       "Got it, I've stored fact #48: \"c9cd0fd1-c3b4-4357-88f9-4b2f8bbb3143\". Please let me know if you need me to remember any other facts or if you have any other requests!"
      ]
     },
     "metadata": {},
     "output_type": "display_data"
    },
    {
     "name": "stdout",
     "output_type": "stream",
     "text": [
      "Human: You need to remember fact #49, which is d29d7b0f-e384-4d30-86cb-13c4d24889d1\n",
      "***Human: You need to remember fact #49, which is d29d7b0f-e384-4d30-86cb-13c4d24889d1\n"
     ]
    },
    {
     "data": {
      "text/markdown": [
       "Got it, I've stored fact #49: `d29d7b0f-e384-4d30-86cb-13c4d24889d1`. Please let me know if you need me to remember any other facts or if you have any other requests!"
      ]
     },
     "metadata": {},
     "output_type": "display_data"
    },
    {
     "name": "stdout",
     "output_type": "stream",
     "text": [
      "Human: You need to remember fact #50, which is 2cb3e1af-e61a-410c-9071-bf22af793d6d\n",
      "***Human: You need to remember fact #50, which is 2cb3e1af-e61a-410c-9071-bf22af793d6d\n"
     ]
    },
    {
     "data": {
      "text/markdown": [
       "Got it, I've stored fact #50: `2cb3e1af-e61a-410c-9071-bf22af793d6d`. Please let me know if you need me to remember any other facts or if you have any other requests!"
      ]
     },
     "metadata": {},
     "output_type": "display_data"
    },
    {
     "name": "stdout",
     "output_type": "stream",
     "text": [
      "Human: You need to remember fact #51, which is 6cc0d98c-e809-4a8d-b85e-2e54d9e26b0d\n",
      "***Human: You need to remember fact #51, which is 6cc0d98c-e809-4a8d-b85e-2e54d9e26b0d\n"
     ]
    },
    {
     "data": {
      "text/markdown": [
       "Got it, I've stored fact #51: `6cc0d98c-e809-4a8d-b85e-2e54d9e26b0d`. Please let me know if you need me to remember any other facts or if you have any other requests!"
      ]
     },
     "metadata": {},
     "output_type": "display_data"
    },
    {
     "name": "stdout",
     "output_type": "stream",
     "text": [
      "Human: You need to remember fact #52, which is 9f319a70-7b63-40cd-992a-17c469b0c06b\n",
      "***Human: You need to remember fact #52, which is 9f319a70-7b63-40cd-992a-17c469b0c06b\n"
     ]
    },
    {
     "data": {
      "text/markdown": [
       "Got it, I've stored fact #52: \"9f319a70-7b63-40cd-992a-17c469b0c06b\". Please let me know if you need me to remember any other facts or if you have any other requests!"
      ]
     },
     "metadata": {},
     "output_type": "display_data"
    },
    {
     "name": "stdout",
     "output_type": "stream",
     "text": [
      "Human: You need to remember fact #53, which is 29ec6755-6d13-4f01-b3e8-299ed80536d4\n",
      "***Human: You need to remember fact #53, which is 29ec6755-6d13-4f01-b3e8-299ed80536d4\n"
     ]
    },
    {
     "data": {
      "text/markdown": [
       "Got it, I've stored fact #53: \"29ec6755-6d13-4f01-b3e8-299ed80536d4\". Please let me know if you need me to remember any other facts or if you have any other requests!"
      ]
     },
     "metadata": {},
     "output_type": "display_data"
    },
    {
     "name": "stdout",
     "output_type": "stream",
     "text": [
      "Human: You need to remember fact #54, which is 314d99e1-0a87-4826-adc1-5f76cd80d511\n",
      "***Human: You need to remember fact #54, which is 314d99e1-0a87-4826-adc1-5f76cd80d511\n"
     ]
    },
    {
     "data": {
      "text/markdown": [
       "Got it, I've stored fact #54: \"314d99e1-0a87-4826-adc1-5f76cd80d511\". Please let me know if you need me to remember any other facts or if you have any other requests!"
      ]
     },
     "metadata": {},
     "output_type": "display_data"
    },
    {
     "name": "stdout",
     "output_type": "stream",
     "text": [
      "Human: You need to remember fact #55, which is 6614add1-3e44-459a-9a1c-09c0f662294c\n",
      "***Human: You need to remember fact #55, which is 6614add1-3e44-459a-9a1c-09c0f662294c\n"
     ]
    },
    {
     "data": {
      "text/markdown": [
       "Got it, I have stored the new fact #55: \"6614add1-3e44-459a-9a1c-09c0f662294c\". Please let me know if you need me to remember any other facts or if you have any other requests!"
      ]
     },
     "metadata": {},
     "output_type": "display_data"
    },
    {
     "name": "stdout",
     "output_type": "stream",
     "text": [
      "Human: You need to remember fact #56, which is b09600c7-705b-4800-a123-2d2c5bd3ef5d\n",
      "***Human: You need to remember fact #56, which is b09600c7-705b-4800-a123-2d2c5bd3ef5d\n"
     ]
    },
    {
     "data": {
      "text/markdown": [
       "Got it, I've stored fact #56: `b09600c7-705b-4800-a123-2d2c5bd3ef5d`. Please let me know if you need me to remember any other facts or if you have any other requests!"
      ]
     },
     "metadata": {},
     "output_type": "display_data"
    },
    {
     "name": "stdout",
     "output_type": "stream",
     "text": [
      "Human: You need to remember fact #57, which is fb9d9fcb-0b19-4084-8944-ed5dcc9ccde0\n",
      "***Human: You need to remember fact #57, which is fb9d9fcb-0b19-4084-8944-ed5dcc9ccde0\n"
     ]
    },
    {
     "data": {
      "text/markdown": [
       "Got it, I've stored fact #57: \"fb9d9fcb-0b19-4084-8944-ed5dcc9ccde0\". Please let me know if you need me to remember any other facts or if you have any other requests!"
      ]
     },
     "metadata": {},
     "output_type": "display_data"
    },
    {
     "name": "stdout",
     "output_type": "stream",
     "text": [
      "Human: You need to remember fact #58, which is 5f994713-841c-4ac0-aa4d-e0c86d138a00\n",
      "***Human: You need to remember fact #58, which is 5f994713-841c-4ac0-aa4d-e0c86d138a00\n"
     ]
    },
    {
     "data": {
      "text/markdown": [
       "Got it, I have stored fact #58: \"5f994713-841c-4ac0-aa4d-e0c86d138a00\". Please let me know if you need me to remember any other facts or if you have any other requests!"
      ]
     },
     "metadata": {},
     "output_type": "display_data"
    },
    {
     "name": "stdout",
     "output_type": "stream",
     "text": [
      "Human: You need to remember fact #59, which is 508ad097-ce6d-46e4-9ed8-8f5129977e4e\n",
      "***Human: You need to remember fact #59, which is 508ad097-ce6d-46e4-9ed8-8f5129977e4e\n"
     ]
    },
    {
     "data": {
      "text/markdown": [
       "Got it, I've stored fact #59: \"508ad097-ce6d-46e4-9ed8-8f5129977e4e\". Please let me know if you need me to remember any other facts or if you have any other requests!"
      ]
     },
     "metadata": {},
     "output_type": "display_data"
    },
    {
     "name": "stdout",
     "output_type": "stream",
     "text": [
      "Human: You need to remember fact #60, which is edde3bed-d8c5-46db-9238-5986f20e7325\n",
      "***Human: You need to remember fact #60, which is edde3bed-d8c5-46db-9238-5986f20e7325\n"
     ]
    },
    {
     "data": {
      "text/markdown": [
       "Got it, I've stored the new fact:\n",
       "\n",
       "```\n",
       "Fact #60: edde3bed-d8c5-46db-9238-5986f20e7325\n",
       "```\n",
       "\n",
       "Please let me know if you need me to remember any other facts or if you have any other requests!"
      ]
     },
     "metadata": {},
     "output_type": "display_data"
    },
    {
     "name": "stdout",
     "output_type": "stream",
     "text": [
      "Human: You need to remember fact #61, which is e85d962d-c2f7-4215-9329-02bfe769653a\n",
      "***Human: You need to remember fact #61, which is e85d962d-c2f7-4215-9329-02bfe769653a\n"
     ]
    },
    {
     "data": {
      "text/markdown": [
       "Got it, I've stored the new fact:\n",
       "\n",
       "```\n",
       "Fact #61: e85d962d-c2f7-4215-9329-02bfe769653a\n",
       "```\n",
       "\n",
       "Please let me know if you need me to remember any other facts or if you have any other requests!"
      ]
     },
     "metadata": {},
     "output_type": "display_data"
    },
    {
     "name": "stdout",
     "output_type": "stream",
     "text": [
      "Human: You need to remember fact #62, which is c8fba600-ebae-422e-862b-4ccbe7889cc8\n",
      "***Human: You need to remember fact #62, which is c8fba600-ebae-422e-862b-4ccbe7889cc8\n"
     ]
    },
    {
     "data": {
      "text/markdown": [
       "Got it, I've stored fact #62: \"c8fba600-ebae-422e-862b-4ccbe7889cc8\". Please let me know if you need me to remember any other facts or if you have any other requests!"
      ]
     },
     "metadata": {},
     "output_type": "display_data"
    },
    {
     "name": "stdout",
     "output_type": "stream",
     "text": [
      "Human: You need to remember fact #63, which is 43b018b6-6b1f-4d3f-821a-0312b16e0ed2\n",
      "***Human: You need to remember fact #63, which is 43b018b6-6b1f-4d3f-821a-0312b16e0ed2\n"
     ]
    },
    {
     "data": {
      "text/markdown": [
       "Got it, I've stored fact #63: \"43b018b6-6b1f-4d3f-821a-0312b16e0ed2\". Please let me know if you need me to remember any other facts or if you have any other requests!"
      ]
     },
     "metadata": {},
     "output_type": "display_data"
    },
    {
     "name": "stdout",
     "output_type": "stream",
     "text": [
      "Human: You need to remember fact #64, which is 51784d67-0f00-4733-9f15-b8fb2933c81c\n",
      "***Human: You need to remember fact #64, which is 51784d67-0f00-4733-9f15-b8fb2933c81c\n"
     ]
    },
    {
     "data": {
      "text/markdown": [
       "Got it, I've stored fact #64: `51784d67-0f00-4733-9f15-b8fb2933c81c`. Please let me know if you need me to remember any other facts or if you have any other requests!"
      ]
     },
     "metadata": {},
     "output_type": "display_data"
    },
    {
     "name": "stdout",
     "output_type": "stream",
     "text": [
      "Human: You need to remember fact #65, which is b5b39a1d-a580-40c6-bcca-ae7014c77fd7\n",
      "***Human: You need to remember fact #65, which is b5b39a1d-a580-40c6-bcca-ae7014c77fd7\n"
     ]
    },
    {
     "data": {
      "text/markdown": [
       "Got it, I've stored fact #65: `b5b39a1d-a580-40c6-bcca-ae7014c77fd7`. Please let me know if you need me to remember any other facts or if you have any other requests!"
      ]
     },
     "metadata": {},
     "output_type": "display_data"
    },
    {
     "name": "stdout",
     "output_type": "stream",
     "text": [
      "Human: You need to remember fact #66, which is bd8a490e-c2a0-4de3-b986-454836acfd0c\n",
      "***Human: You need to remember fact #66, which is bd8a490e-c2a0-4de3-b986-454836acfd0c\n"
     ]
    },
    {
     "data": {
      "text/markdown": [
       "Got it, I've stored fact #66: \"bd8a490e-c2a0-4de3-b986-454836acfd0c\". Please let me know if you need me to remember any other facts or if you have any other requests!"
      ]
     },
     "metadata": {},
     "output_type": "display_data"
    },
    {
     "name": "stdout",
     "output_type": "stream",
     "text": [
      "Human: You need to remember fact #67, which is da27be7b-ef40-4210-bde3-f497b5b60465\n",
      "***Human: You need to remember fact #67, which is da27be7b-ef40-4210-bde3-f497b5b60465\n"
     ]
    },
    {
     "data": {
      "text/markdown": [
       "Got it, I've stored fact #67: \"da27be7b-ef40-4210-bde3-f497b5b60465\". Please let me know if you need me to remember any other facts or if you have any other requests!"
      ]
     },
     "metadata": {},
     "output_type": "display_data"
    },
    {
     "name": "stdout",
     "output_type": "stream",
     "text": [
      "Human: You need to remember fact #68, which is 0a98e4ba-1c55-4539-aca0-a173c53a4fc7\n",
      "***Human: You need to remember fact #68, which is 0a98e4ba-1c55-4539-aca0-a173c53a4fc7\n"
     ]
    },
    {
     "data": {
      "text/markdown": [
       "```\n",
       "Noted! I have stored the following fact:\n",
       "\n",
       "Fact #68: 0a98e4ba-1c55-4539-aca0-a173c53a4fc7\n",
       "```"
      ]
     },
     "metadata": {},
     "output_type": "display_data"
    },
    {
     "name": "stdout",
     "output_type": "stream",
     "text": [
      "Human: You need to remember fact #69, which is f2e747b1-0308-4331-94e2-11cc1716f212\n",
      "***Human: You need to remember fact #69, which is f2e747b1-0308-4331-94e2-11cc1716f212\n"
     ]
    },
    {
     "data": {
      "text/markdown": [
       "Got it, I've stored fact #69: \"f2e747b1-0308-4331-94e2-11cc1716f212\". Please let me know if you need me to remember any other facts or if you have any other requests!"
      ]
     },
     "metadata": {},
     "output_type": "display_data"
    },
    {
     "name": "stdout",
     "output_type": "stream",
     "text": [
      "Human: You need to remember fact #70, which is 19dfd4b4-ba78-4daf-bdd5-fcb37c6dd5d2\n",
      "***Human: You need to remember fact #70, which is 19dfd4b4-ba78-4daf-bdd5-fcb37c6dd5d2\n"
     ]
    },
    {
     "data": {
      "text/markdown": [
       "Got it, I've stored the new fact:\n",
       "\n",
       "```\n",
       "Fact #70: 19dfd4b4-ba78-4daf-bdd5-fcb37c6dd5d2\n",
       "```\n",
       "\n",
       "Please let me know if you need me to remember any other facts or if you have any other requests!"
      ]
     },
     "metadata": {},
     "output_type": "display_data"
    },
    {
     "name": "stdout",
     "output_type": "stream",
     "text": [
      "Human: You need to remember fact #71, which is 328c3915-a039-4aff-ad66-6ab1dfb92ff2\n",
      "***Human: You need to remember fact #71, which is 328c3915-a039-4aff-ad66-6ab1dfb92ff2\n"
     ]
    },
    {
     "data": {
      "text/markdown": [
       "Got it, I have stored fact #71: \"328c3915-a039-4aff-ad66-6ab1dfb92ff2\". Please let me know if you need me to remember any other facts or if you have any other requests!"
      ]
     },
     "metadata": {},
     "output_type": "display_data"
    },
    {
     "name": "stdout",
     "output_type": "stream",
     "text": [
      "Human: You need to remember fact #72, which is d6a2d174-f8b9-4ae1-b715-7d339461d953\n",
      "***Human: You need to remember fact #72, which is d6a2d174-f8b9-4ae1-b715-7d339461d953\n"
     ]
    },
    {
     "data": {
      "text/markdown": [
       "Got it, I've stored fact #72: \"d6a2d174-f8b9-4ae1-b715-7d339461d953\". Please let me know if you need me to remember any other facts or if you have any other requests!"
      ]
     },
     "metadata": {},
     "output_type": "display_data"
    },
    {
     "name": "stdout",
     "output_type": "stream",
     "text": [
      "Human: You need to remember fact #73, which is c5318675-7a6f-44d7-a44a-bee79c263236\n",
      "***Human: You need to remember fact #73, which is c5318675-7a6f-44d7-a44a-bee79c263236\n"
     ]
    },
    {
     "data": {
      "text/markdown": [
       "Got it, I've stored fact #73: \"c5318675-7a6f-44d7-a44a-bee79c263236\". Please let me know if you need me to remember any other facts or if you have any other requests!"
      ]
     },
     "metadata": {},
     "output_type": "display_data"
    },
    {
     "name": "stdout",
     "output_type": "stream",
     "text": [
      "Human: You need to remember fact #74, which is 4d697eee-b54d-49c6-8a2a-7447e83bcf59\n",
      "***Human: You need to remember fact #74, which is 4d697eee-b54d-49c6-8a2a-7447e83bcf59\n"
     ]
    },
    {
     "data": {
      "text/markdown": [
       "Got it, I have stored fact #74: \"4d697eee-b54d-49c6-8a2a-7447e83bcf59\". Please let me know if you need me to remember any other facts or if you have any other requests!"
      ]
     },
     "metadata": {},
     "output_type": "display_data"
    },
    {
     "name": "stdout",
     "output_type": "stream",
     "text": [
      "Human: You need to remember fact #75, which is 5abe082e-1b2e-41f5-bc0e-2a2959b717b5\n",
      "***Human: You need to remember fact #75, which is 5abe082e-1b2e-41f5-bc0e-2a2959b717b5\n"
     ]
    },
    {
     "data": {
      "text/markdown": [
       "Got it, I've stored fact #75: \"5abe082e-1b2e-41f5-bc0e-2a2959b717b5\". Please let me know if you need me to remember any other facts or if you have any other requests!"
      ]
     },
     "metadata": {},
     "output_type": "display_data"
    },
    {
     "name": "stdout",
     "output_type": "stream",
     "text": [
      "Human: You need to remember fact #76, which is f57ccfef-2673-4d7d-998f-fff0abe069da\n",
      "***Human: You need to remember fact #76, which is f57ccfef-2673-4d7d-998f-fff0abe069da\n"
     ]
    },
    {
     "data": {
      "text/markdown": [
       "Got it, I've stored fact #76: \"f57ccfef-2673-4d7d-998f-fff0abe069da\". Please let me know if you need me to remember any other facts or if you have any other requests!"
      ]
     },
     "metadata": {},
     "output_type": "display_data"
    },
    {
     "name": "stdout",
     "output_type": "stream",
     "text": [
      "Human: You need to remember fact #77, which is 13c93d12-ce52-45b2-b615-3eedc7868c62\n",
      "***Human: You need to remember fact #77, which is 13c93d12-ce52-45b2-b615-3eedc7868c62\n"
     ]
    },
    {
     "data": {
      "text/markdown": [
       "Got it, I've stored fact #77: \"13c93d12-ce52-45b2-b615-3eedc7868c62\". Please let me know if you need me to remember any other facts or if you have any other requests!"
      ]
     },
     "metadata": {},
     "output_type": "display_data"
    },
    {
     "name": "stdout",
     "output_type": "stream",
     "text": [
      "Human: You need to remember fact #78, which is ebe9e4b3-704c-4be3-a793-5eabeaaa4c9f\n",
      "***Human: You need to remember fact #78, which is ebe9e4b3-704c-4be3-a793-5eabeaaa4c9f\n"
     ]
    },
    {
     "data": {
      "text/markdown": [
       "Got it, I've stored fact #78: `ebe9e4b3-704c-4be3-a793-5eabeaaa4c9f`. Please let me know if you need me to remember any other facts or if you have any other requests!"
      ]
     },
     "metadata": {},
     "output_type": "display_data"
    },
    {
     "name": "stdout",
     "output_type": "stream",
     "text": [
      "Human: You need to remember fact #79, which is a6b28b8a-3932-4705-85f2-ba3a65ebb533\n",
      "***Human: You need to remember fact #79, which is a6b28b8a-3932-4705-85f2-ba3a65ebb533\n"
     ]
    },
    {
     "data": {
      "text/markdown": [
       "Got it, I've stored fact #79: \"a6b28b8a-3932-4705-85f2-ba3a65ebb533\". Please let me know if you need me to remember any other facts or if you have any other requests!"
      ]
     },
     "metadata": {},
     "output_type": "display_data"
    },
    {
     "name": "stdout",
     "output_type": "stream",
     "text": [
      "Human: You need to remember fact #80, which is 40615c01-6708-491c-9270-6ad4d4742954\n",
      "***Human: You need to remember fact #80, which is 40615c01-6708-491c-9270-6ad4d4742954\n"
     ]
    },
    {
     "data": {
      "text/markdown": [
       "Got it, I've stored fact #80: \"40615c01-6708-491c-9270-6ad4d4742954\". Please let me know if you need me to remember any other facts or if you have any other requests!"
      ]
     },
     "metadata": {},
     "output_type": "display_data"
    },
    {
     "name": "stdout",
     "output_type": "stream",
     "text": [
      "Human: You need to remember fact #81, which is 98d081e0-051c-4647-a2fb-2b11984f86dc\n",
      "***Human: You need to remember fact #81, which is 98d081e0-051c-4647-a2fb-2b11984f86dc\n"
     ]
    },
    {
     "data": {
      "text/markdown": [
       "Got it, I've stored the following as fact #81:\n",
       "\n",
       "```\n",
       "98d081e0-051c-4647-a2fb-2b11984f86dc\n",
       "```\n",
       "\n",
       "Please let me know if you need me to remember any other facts or if you have any other requests!"
      ]
     },
     "metadata": {},
     "output_type": "display_data"
    },
    {
     "name": "stdout",
     "output_type": "stream",
     "text": [
      "Human: You need to remember fact #82, which is 45fb3d4e-c701-4329-8322-4957292bfcc0\n",
      "***Human: You need to remember fact #82, which is 45fb3d4e-c701-4329-8322-4957292bfcc0\n"
     ]
    },
    {
     "data": {
      "text/markdown": [
       "Got it, I've stored fact #82: \"45fb3d4e-c701-4329-8322-4957292bfcc0\". Please let me know if you need me to remember any other facts or if you have any other requests!"
      ]
     },
     "metadata": {},
     "output_type": "display_data"
    },
    {
     "name": "stdout",
     "output_type": "stream",
     "text": [
      "Human: You need to remember fact #83, which is 533c0447-1c0c-49a0-8ba9-d7363f3e922d\n",
      "***Human: You need to remember fact #83, which is 533c0447-1c0c-49a0-8ba9-d7363f3e922d\n"
     ]
    },
    {
     "data": {
      "text/markdown": [
       "Got it, I've stored fact #83: \"533c0447-1c0c-49a0-8ba9-d7363f3e922d\". Please let me know if you need me to remember any other facts or if you have any other requests!"
      ]
     },
     "metadata": {},
     "output_type": "display_data"
    },
    {
     "name": "stdout",
     "output_type": "stream",
     "text": [
      "Human: You need to remember fact #84, which is 62915d98-e1dc-43fd-b788-9334f02f1541\n",
      "***Human: You need to remember fact #84, which is 62915d98-e1dc-43fd-b788-9334f02f1541\n"
     ]
    },
    {
     "data": {
      "text/markdown": [
       "Got it, I've stored fact #84: `62915d98-e1dc-43fd-b788-9334f02f1541`. Please let me know if you need me to remember any other facts or if you have any other requests!"
      ]
     },
     "metadata": {},
     "output_type": "display_data"
    },
    {
     "name": "stdout",
     "output_type": "stream",
     "text": [
      "Human: You need to remember fact #85, which is 9d72d8c9-f76d-4f4e-9657-9b1b51ae6266\n",
      "***Human: You need to remember fact #85, which is 9d72d8c9-f76d-4f4e-9657-9b1b51ae6266\n"
     ]
    },
    {
     "data": {
      "text/markdown": [
       "Got it, I've stored fact #85: `9d72d8c9-f76d-4f4e-9657-9b1b51ae6266`. Please let me know if you need me to remember any other facts or if you have any other requests!"
      ]
     },
     "metadata": {},
     "output_type": "display_data"
    },
    {
     "name": "stdout",
     "output_type": "stream",
     "text": [
      "Human: You need to remember fact #86, which is 8b78f5dc-a86f-488b-9812-b3f67de2d181\n",
      "***Human: You need to remember fact #86, which is 8b78f5dc-a86f-488b-9812-b3f67de2d181\n"
     ]
    },
    {
     "data": {
      "text/markdown": [
       "Got it, I've stored fact #86: \"8b78f5dc-a86f-488b-9812-b3f67de2d181\". Please let me know if you need me to remember any other facts or if you have any other requests!"
      ]
     },
     "metadata": {},
     "output_type": "display_data"
    },
    {
     "name": "stdout",
     "output_type": "stream",
     "text": [
      "Human: You need to remember fact #87, which is a690ec5c-35da-4b07-8866-00447ad4f3a1\n",
      "***Human: You need to remember fact #87, which is a690ec5c-35da-4b07-8866-00447ad4f3a1\n"
     ]
    },
    {
     "data": {
      "text/markdown": [
       "Got it, I've stored fact #87: \"a690ec5c-35da-4b07-8866-00447ad4f3a1\". Please let me know if you need me to remember any other facts or if you have any other requests!"
      ]
     },
     "metadata": {},
     "output_type": "display_data"
    },
    {
     "name": "stdout",
     "output_type": "stream",
     "text": [
      "Human: You need to remember fact #88, which is 8ae96f2f-be9a-4fe5-a56e-a5ec95c997a1\n",
      "***Human: You need to remember fact #88, which is 8ae96f2f-be9a-4fe5-a56e-a5ec95c997a1\n"
     ]
    },
    {
     "data": {
      "text/markdown": [
       "Got it, I have stored fact #88: \"8ae96f2f-be9a-4fe5-a56e-a5ec95c997a1\". Please let me know if you need me to remember any other facts or if you have any other requests!"
      ]
     },
     "metadata": {},
     "output_type": "display_data"
    },
    {
     "name": "stdout",
     "output_type": "stream",
     "text": [
      "Human: You need to remember fact #89, which is 7d65b37f-dc6e-4bb8-aa6e-c7b7949ca470\n",
      "***Human: You need to remember fact #89, which is 7d65b37f-dc6e-4bb8-aa6e-c7b7949ca470\n"
     ]
    },
    {
     "data": {
      "text/markdown": [
       "Got it, I've stored fact #89: \"7d65b37f-dc6e-4bb8-aa6e-c7b7949ca470\". Please let me know if you need me to remember any other facts or if you have any other requests!"
      ]
     },
     "metadata": {},
     "output_type": "display_data"
    },
    {
     "name": "stdout",
     "output_type": "stream",
     "text": [
      "Human: You need to remember fact #90, which is 538caa80-939e-47cf-b725-15194dc75b9e\n",
      "***Human: You need to remember fact #90, which is 538caa80-939e-47cf-b725-15194dc75b9e\n"
     ]
    },
    {
     "data": {
      "text/markdown": [
       "Got it, I have stored fact #90: \"538caa80-939e-47cf-b725-15194dc75b9e\". Please let me know if you need me to remember any other facts or if you have any other requests!"
      ]
     },
     "metadata": {},
     "output_type": "display_data"
    },
    {
     "name": "stdout",
     "output_type": "stream",
     "text": [
      "Human: You need to remember fact #91, which is 07b3c1cd-d8ff-416c-bb83-212539a15d07\n",
      "***Human: You need to remember fact #91, which is 07b3c1cd-d8ff-416c-bb83-212539a15d07\n"
     ]
    },
    {
     "data": {
      "text/markdown": [
       "Got it, I've stored fact #91: `07b3c1cd-d8ff-416c-bb83-212539a15d07`. Please let me know if you need me to remember any other facts or if you have any other requests!"
      ]
     },
     "metadata": {},
     "output_type": "display_data"
    },
    {
     "name": "stdout",
     "output_type": "stream",
     "text": [
      "Human: You need to remember fact #92, which is b25b30e8-4b98-4548-8fc8-ea4247c94102\n",
      "***Human: You need to remember fact #92, which is b25b30e8-4b98-4548-8fc8-ea4247c94102\n"
     ]
    },
    {
     "data": {
      "text/markdown": [
       "Got it, I've stored fact #92: `b25b30e8-4b98-4548-8fc8-ea4247c94102`. Please let me know if you need me to remember any other facts or if you have any other requests!"
      ]
     },
     "metadata": {},
     "output_type": "display_data"
    },
    {
     "name": "stdout",
     "output_type": "stream",
     "text": [
      "Human: You need to remember fact #93, which is 52c8bff2-d016-442d-be97-302ccbbc9de8\n",
      "***Human: You need to remember fact #93, which is 52c8bff2-d016-442d-be97-302ccbbc9de8\n"
     ]
    },
    {
     "data": {
      "text/markdown": [
       "Got it, I've stored fact #93: \"52c8bff2-d016-442d-be97-302ccbbc9de8\". Please let me know if you need me to remember any other facts or if you have any other requests!"
      ]
     },
     "metadata": {},
     "output_type": "display_data"
    },
    {
     "name": "stdout",
     "output_type": "stream",
     "text": [
      "Human: You need to remember fact #94, which is 36fa1228-49d9-4d75-be4b-7e8ff32a21df\n",
      "***Human: You need to remember fact #94, which is 36fa1228-49d9-4d75-be4b-7e8ff32a21df\n"
     ]
    },
    {
     "data": {
      "text/markdown": [
       "Got it, I've stored fact #94: `36fa1228-49d9-4d75-be4b-7e8ff32a21df`. Please let me know if you need me to remember any other facts or if you have any other requests!"
      ]
     },
     "metadata": {},
     "output_type": "display_data"
    },
    {
     "name": "stdout",
     "output_type": "stream",
     "text": [
      "Human: You need to remember fact #95, which is a373e062-1b8a-4a4f-b9ed-1071d2f99c72\n",
      "***Human: You need to remember fact #95, which is a373e062-1b8a-4a4f-b9ed-1071d2f99c72\n"
     ]
    },
    {
     "data": {
      "text/markdown": [
       "Got it, I've stored fact #95: `a373e062-1b8a-4a4f-b9ed-1071d2f99c72`. Please let me know if you need me to remember any other facts or if you have any other requests!"
      ]
     },
     "metadata": {},
     "output_type": "display_data"
    },
    {
     "name": "stdout",
     "output_type": "stream",
     "text": [
      "Human: You need to remember fact #96, which is c0fba190-4511-4515-b59a-a3b73f2b1b4c\n",
      "***Human: You need to remember fact #96, which is c0fba190-4511-4515-b59a-a3b73f2b1b4c\n"
     ]
    },
    {
     "data": {
      "text/markdown": [
       "Got it, I've stored fact #96: `c0fba190-4511-4515-b59a-a3b73f2b1b4c`. Please let me know if you need me to remember any other facts or if you have any other requests!"
      ]
     },
     "metadata": {},
     "output_type": "display_data"
    },
    {
     "name": "stdout",
     "output_type": "stream",
     "text": [
      "Human: You need to remember fact #97, which is 47742af2-28b4-4347-ad12-215c6fd1a455\n",
      "***Human: You need to remember fact #97, which is 47742af2-28b4-4347-ad12-215c6fd1a455\n"
     ]
    },
    {
     "data": {
      "text/markdown": [
       "Got it, I've stored fact #97: \"47742af2-28b4-4347-ad12-215c6fd1a455\". Please let me know if you need me to remember any other facts or if you have any other requests!"
      ]
     },
     "metadata": {},
     "output_type": "display_data"
    },
    {
     "name": "stdout",
     "output_type": "stream",
     "text": [
      "Human: You need to remember fact #98, which is 0bf46bc5-c3f2-40ad-bbab-5cf81bfd30c0\n",
      "***Human: You need to remember fact #98, which is 0bf46bc5-c3f2-40ad-bbab-5cf81bfd30c0\n"
     ]
    },
    {
     "data": {
      "text/markdown": [
       "Got it, I've stored fact #98: `0bf46bc5-c3f2-40ad-bbab-5cf81bfd30c0`. Please let me know if you need me to remember any other facts or if you have any other requests!"
      ]
     },
     "metadata": {},
     "output_type": "display_data"
    },
    {
     "name": "stdout",
     "output_type": "stream",
     "text": [
      "Human: You need to remember fact #99, which is 9c2bf27b-bed8-4b8b-be71-ae9e5b2ed538\n",
      "***Human: You need to remember fact #99, which is 9c2bf27b-bed8-4b8b-be71-ae9e5b2ed538\n"
     ]
    },
    {
     "data": {
      "text/markdown": [
       "Got it, I've stored fact #99: \"9c2bf27b-bed8-4b8b-be71-ae9e5b2ed538\". Please let me know if you need me to remember any other facts or if you have any other requests!"
      ]
     },
     "metadata": {},
     "output_type": "display_data"
    },
    {
     "name": "stdout",
     "output_type": "stream",
     "text": [
      "Human: Do you remember my name?\n",
      "***Human: Do you remember my name?\n"
     ]
    },
    {
     "data": {
      "text/markdown": [
       "Yes, I remember that your name is Jeff."
      ]
     },
     "metadata": {},
     "output_type": "display_data"
    },
    {
     "name": "stdout",
     "output_type": "stream",
     "text": [
      "Human: Do you remember my favorite color?\n",
      "***Human: Do you remember my favorite color?\n"
     ]
    },
    {
     "data": {
      "text/markdown": [
       "```\n",
       "Yes, I remember that your favorite color is blue.\n",
       "```"
      ]
     },
     "metadata": {},
     "output_type": "display_data"
    },
    {
     "name": "stdout",
     "output_type": "stream",
     "text": [
      "Human: OMG, you had one job!\n",
      "***Human: OMG, you had one job!\n"
     ]
    },
    {
     "data": {
      "text/markdown": [
       "```\n",
       "I'm sorry, it seems there was a misunderstanding or mistake on my part. As an AI assistant, my goal is to be helpful and accurate. If I failed to remember or properly handle the information you provided, I sincerely apologize. Please feel free to clarify the issue or provide the information again, and I will do my best to correct any errors. My role is to assist you effectively, so I appreciate you bringing any problems to my attention so I can improve.\n",
       "```"
      ]
     },
     "metadata": {},
     "output_type": "display_data"
    }
   ],
   "source": [
    "import uuid\n",
    "\n",
    "conversation = begin_conversation(llm)\n",
    "chat(conversation, \"Okay, then let me introduce myself, my name is Jeff\")\n",
    "chat(conversation, \"You have ONE JOB! Remember that my favorite color is blue.\")\n",
    "chat(conversation, \"Do you remember my name?\")\n",
    "chat(conversation, \"Do you remember my favorite color?\")\n",
    "for i in range(100):\n",
    "  chat(conversation, f\"You need to remember fact #{i}, which is {str(uuid.uuid4())}\")\n",
    "chat(conversation, \"Do you remember my name?\")\n",
    "chat(conversation, \"Do you remember my favorite color?\")\n",
    "chat(conversation, \"OMG, you had one job!\")"
   ]
  },
  {
   "cell_type": "markdown",
   "metadata": {
    "id": "gbi_-ywvX9NX"
   },
   "source": [
    "We can quickly look inside the memory of the LangChain-managed chat memory and see our conversation memory with the LLM. It becomes evident why it forgot."
   ]
  },
  {
   "cell_type": "code",
   "execution_count": 9,
   "metadata": {
    "colab": {
     "base_uri": "https://localhost:8080/"
    },
    "id": "7YCKTQkhJlJB",
    "outputId": "b5cd381f-1acf-41a1-9afc-fe569f0591ff"
   },
   "outputs": [
    {
     "name": "stdout",
     "output_type": "stream",
     "text": [
      "Nice to meet you, Jeff! I'm an AI assistant created by Anthropic. I'm here to help with any questions or tasks you may have. You have told me that your name is Jeff, your favorite color is blue, and instructed me to remember 99 facts which are strings of letters and numbers. I have stored all of those facts, with the most recent one being fact #99: \"9c2bf27b-bed8-4b8b-be71-ae9e5b2ed538\". When you asked if I remember your name, I confirmed that yes, I remember your name is Jeff. When you asked if I remember your favorite color, I confirmed that yes, I remember your favorite color is blue. You then expressed frustration that I had \"one job\", suggesting I failed at properly remembering or handling the information you provided. I apologized for the misunderstanding or mistake, acknowledged that my goal is to be helpful and accurate, and asked you to clarify the issue or provide the information again so I could correct any errors. My role is to assist you effectively, so I appreciate you bringing any problems to my attention so I can improve.\n"
     ]
    }
   ],
   "source": [
    "print(conversation.memory.buffer)"
   ]
  }
 ],
 "metadata": {
  "anaconda-cloud": {},
  "colab": {
   "provenance": []
  },
  "kernelspec": {
   "display_name": "Python 3 (ipykernel)",
   "language": "python",
   "name": "python3"
  },
  "language_info": {
   "codemirror_mode": {
    "name": "ipython",
    "version": 3
   },
   "file_extension": ".py",
   "mimetype": "text/x-python",
   "name": "python",
   "nbconvert_exporter": "python",
   "pygments_lexer": "ipython3",
   "version": "3.10.14"
  },
  "varInspector": {
   "cols": {
    "lenName": 16,
    "lenType": 16,
    "lenVar": 40
   },
   "kernels_config": {
    "python": {
     "delete_cmd_postfix": "",
     "delete_cmd_prefix": "del ",
     "library": "var_list.py",
     "varRefreshCmd": "print(var_dic_list())"
    },
    "r": {
     "delete_cmd_postfix": ") ",
     "delete_cmd_prefix": "rm(",
     "library": "var_list.r",
     "varRefreshCmd": "cat(var_dic_list()) "
    }
   },
   "types_to_exclude": [
    "module",
    "function",
    "builtin_function_or_method",
    "instance",
    "_Feature"
   ],
   "window_display": false
  }
 },
 "nbformat": 4,
 "nbformat_minor": 4
}
