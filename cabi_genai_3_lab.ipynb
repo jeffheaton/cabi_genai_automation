{
 "cells": [
  {
   "cell_type": "markdown",
   "metadata": {
    "id": "whjsJasuhstV"
   },
   "source": [
    "# Introduction to Automation with LangChain, Generative AI, and Python\n",
    "**Lab 3: I Am Not a Typo**\n",
    "* Instructor: [Jeff Heaton](https://youtube.com/@HeatonResearch), WUSTL Center for Analytics and Business Insight (CABI), [Washington University in St. Louis](https://olin.wustl.edu/faculty-and-research/research-centers/center-for-analytics-and-business-insight/index.php)\n",
    "* For more information visit the [class website](https://github.com/jeffheaton/cabi_genai_automation).\n",
    "\n",
    "# Instructions\n",
    "\n",
    "Spell checkers can be tricky to code. With the large diversity of names around the world, sometimes people's names are flagged as typos. There is a campaign named [#iamnotatypo](https://www.iamnotatypo.org/) that attempts to build a list of people's names; however, maybe AI can help. As a human, usually I can determine if words are a name just from context. Consider the following paragraph where many of the names would be flagged by MS-Word as typos. Can GenAI find all the names in this paragraph? Just to make it more like text a human would generate, I \"forgot\" to capitalize a few of the names.\n",
    "\n",
    "Make use of LangChain to extract just the names, as a Python list."
   ]
  },
  {
   "cell_type": "code",
   "execution_count": 5,
   "metadata": {},
   "outputs": [],
   "source": [
    "SAMPLE = \"\"\"\n",
    "Esmae and Zarah have been friends since college. After graduation they interviewed with priti \n",
    "for a job at the technotryne corporation, whose flagship product is named Futuricore, which \n",
    "was developed by a programmer named María José García Martínez. After a successful interview \n",
    "they met with their friends Rafe and Ayda to celebrate good times. Their first day on the job, \n",
    "they met three other employees, Ruaridh, Eesa, and Otillie. Later they were joined by \n",
    "Matei Smith.\"\"\""
   ]
  },
  {
   "cell_type": "code",
   "execution_count": null,
   "metadata": {},
   "outputs": [],
   "source": []
  }
 ],
 "metadata": {
  "anaconda-cloud": {},
  "colab": {
   "provenance": []
  },
  "kernelspec": {
   "display_name": "Python 3 (ipykernel)",
   "language": "python",
   "name": "python3"
  },
  "language_info": {
   "codemirror_mode": {
    "name": "ipython",
    "version": 3
   },
   "file_extension": ".py",
   "mimetype": "text/x-python",
   "name": "python",
   "nbconvert_exporter": "python",
   "pygments_lexer": "ipython3",
   "version": "3.10.10"
  },
  "varInspector": {
   "cols": {
    "lenName": 16,
    "lenType": 16,
    "lenVar": 40
   },
   "kernels_config": {
    "python": {
     "delete_cmd_postfix": "",
     "delete_cmd_prefix": "del ",
     "library": "var_list.py",
     "varRefreshCmd": "print(var_dic_list())"
    },
    "r": {
     "delete_cmd_postfix": ") ",
     "delete_cmd_prefix": "rm(",
     "library": "var_list.r",
     "varRefreshCmd": "cat(var_dic_list()) "
    }
   },
   "types_to_exclude": [
    "module",
    "function",
    "builtin_function_or_method",
    "instance",
    "_Feature"
   ],
   "window_display": false
  }
 },
 "nbformat": 4,
 "nbformat_minor": 4
}
